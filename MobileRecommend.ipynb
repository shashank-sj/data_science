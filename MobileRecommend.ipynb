{
 "cells": [
  {
   "cell_type": "code",
   "execution_count": 1,
   "id": "d017c4f7-48ec-4ca0-a326-4087a65cd12d",
   "metadata": {
    "tags": []
   },
   "outputs": [],
   "source": [
    "import pandas as pd\n",
    "import numpy as np"
   ]
  },
  {
   "cell_type": "code",
   "execution_count": 3,
   "id": "c0a864f7-f733-4678-81ac-adb4850e9f13",
   "metadata": {
    "tags": []
   },
   "outputs": [],
   "source": [
    "df = pd.read_csv(\"mobile_recommendation_system_dataset.csv/mobile_recommendation_system_dataset.csv\")"
   ]
  },
  {
   "cell_type": "code",
   "execution_count": 4,
   "id": "2f7063a5-3446-4b39-b270-0e4b011b1f46",
   "metadata": {
    "tags": []
   },
   "outputs": [
    {
     "data": {
      "text/html": [
       "<div>\n",
       "<style scoped>\n",
       "    .dataframe tbody tr th:only-of-type {\n",
       "        vertical-align: middle;\n",
       "    }\n",
       "\n",
       "    .dataframe tbody tr th {\n",
       "        vertical-align: top;\n",
       "    }\n",
       "\n",
       "    .dataframe thead th {\n",
       "        text-align: right;\n",
       "    }\n",
       "</style>\n",
       "<table border=\"1\" class=\"dataframe\">\n",
       "  <thead>\n",
       "    <tr style=\"text-align: right;\">\n",
       "      <th></th>\n",
       "      <th>name</th>\n",
       "      <th>ratings</th>\n",
       "      <th>price</th>\n",
       "      <th>imgURL</th>\n",
       "      <th>corpus</th>\n",
       "    </tr>\n",
       "  </thead>\n",
       "  <tbody>\n",
       "    <tr>\n",
       "      <th>0</th>\n",
       "      <td>REDMI Note 12 Pro 5G (Onyx Black, 128 GB)</td>\n",
       "      <td>4.2</td>\n",
       "      <td>23999</td>\n",
       "      <td>https://rukminim2.flixcart.com/image/312/312/x...</td>\n",
       "      <td>Storage128 GBRAM6  SystemAndroid 12Processor T...</td>\n",
       "    </tr>\n",
       "    <tr>\n",
       "      <th>1</th>\n",
       "      <td>OPPO F11 Pro (Aurora Green, 128 GB)</td>\n",
       "      <td>4.5</td>\n",
       "      <td>₹20,999</td>\n",
       "      <td>https://rukminim2.flixcart.com/image/312/312/k...</td>\n",
       "      <td>Storage128 GBRAM6 GBExpandable Storage256GB  S...</td>\n",
       "    </tr>\n",
       "    <tr>\n",
       "      <th>2</th>\n",
       "      <td>REDMI Note 11 (Starburst White, 64 GB)</td>\n",
       "      <td>4.2</td>\n",
       "      <td>13149</td>\n",
       "      <td>https://rukminim2.flixcart.com/image/312/312/x...</td>\n",
       "      <td>Storage64 GBRAM4  SystemAndroid 11Processor Sp...</td>\n",
       "    </tr>\n",
       "    <tr>\n",
       "      <th>3</th>\n",
       "      <td>OnePlus Nord CE 5G (Blue Void, 256 GB)</td>\n",
       "      <td>4.1</td>\n",
       "      <td>21999</td>\n",
       "      <td>https://rukminim2.flixcart.com/image/312/312/x...</td>\n",
       "      <td>Storage256 GBRAM12  SystemAndroid Q 11Processo...</td>\n",
       "    </tr>\n",
       "    <tr>\n",
       "      <th>4</th>\n",
       "      <td>APPLE iPhone 13 mini (Blue, 128 GB)</td>\n",
       "      <td>4.6</td>\n",
       "      <td>3537</td>\n",
       "      <td>https://rukminim2.flixcart.com/image/312/312/k...</td>\n",
       "      <td>Storage128  SystemiOS 15Processor TypeA15 Bion...</td>\n",
       "    </tr>\n",
       "  </tbody>\n",
       "</table>\n",
       "</div>"
      ],
      "text/plain": [
       "                                        name  ratings    price  \\\n",
       "0  REDMI Note 12 Pro 5G (Onyx Black, 128 GB)      4.2    23999   \n",
       "1        OPPO F11 Pro (Aurora Green, 128 GB)      4.5  ₹20,999   \n",
       "2     REDMI Note 11 (Starburst White, 64 GB)      4.2    13149   \n",
       "3     OnePlus Nord CE 5G (Blue Void, 256 GB)      4.1    21999   \n",
       "4        APPLE iPhone 13 mini (Blue, 128 GB)      4.6     3537   \n",
       "\n",
       "                                              imgURL  \\\n",
       "0  https://rukminim2.flixcart.com/image/312/312/x...   \n",
       "1  https://rukminim2.flixcart.com/image/312/312/k...   \n",
       "2  https://rukminim2.flixcart.com/image/312/312/x...   \n",
       "3  https://rukminim2.flixcart.com/image/312/312/x...   \n",
       "4  https://rukminim2.flixcart.com/image/312/312/k...   \n",
       "\n",
       "                                              corpus  \n",
       "0  Storage128 GBRAM6  SystemAndroid 12Processor T...  \n",
       "1  Storage128 GBRAM6 GBExpandable Storage256GB  S...  \n",
       "2  Storage64 GBRAM4  SystemAndroid 11Processor Sp...  \n",
       "3  Storage256 GBRAM12  SystemAndroid Q 11Processo...  \n",
       "4  Storage128  SystemiOS 15Processor TypeA15 Bion...  "
      ]
     },
     "execution_count": 4,
     "metadata": {},
     "output_type": "execute_result"
    }
   ],
   "source": [
    "df.head()"
   ]
  },
  {
   "cell_type": "code",
   "execution_count": null,
   "id": "3548be88-26f3-46b7-a7c9-7ee0e5ce7f20",
   "metadata": {
    "tags": []
   },
   "outputs": [],
   "source": []
  },
  {
   "cell_type": "code",
   "execution_count": 27,
   "id": "7269d2e5-10d2-4253-8ef5-8d34a17ef7d4",
   "metadata": {
    "tags": []
   },
   "outputs": [
    {
     "data": {
      "text/plain": [
       "Index(['name', 'ratings', 'price', 'imgURL', 'corpus'], dtype='object')"
      ]
     },
     "execution_count": 27,
     "metadata": {},
     "output_type": "execute_result"
    }
   ],
   "source": [
    "df.columns"
   ]
  },
  {
   "cell_type": "code",
   "execution_count": 21,
   "id": "00929cbd-4dab-44ca-bbdf-a26b1458fb15",
   "metadata": {
    "tags": []
   },
   "outputs": [
    {
     "data": {
      "text/plain": [
       "name        0\n",
       "ratings     0\n",
       "price       0\n",
       "imgURL      0\n",
       "corpus     12\n",
       "dtype: int64"
      ]
     },
     "execution_count": 21,
     "metadata": {},
     "output_type": "execute_result"
    }
   ],
   "source": [
    "df.isna().sum()"
   ]
  },
  {
   "cell_type": "code",
   "execution_count": 22,
   "id": "19579ab1-fa3b-4c0e-8bda-2fdef26da7d8",
   "metadata": {
    "tags": []
   },
   "outputs": [],
   "source": [
    "df.dropna(inplace = True)"
   ]
  },
  {
   "cell_type": "code",
   "execution_count": 24,
   "id": "e9735993-9ce6-47f0-83da-be53f50ff1de",
   "metadata": {
    "tags": []
   },
   "outputs": [
    {
     "data": {
      "text/plain": [
       "name       0\n",
       "ratings    0\n",
       "price      0\n",
       "imgURL     0\n",
       "corpus     0\n",
       "dtype: int64"
      ]
     },
     "execution_count": 24,
     "metadata": {},
     "output_type": "execute_result"
    }
   ],
   "source": [
    "df.isna().sum()"
   ]
  },
  {
   "cell_type": "code",
   "execution_count": 25,
   "id": "2137e6f0-6765-4e2b-bef0-47ba24dd9f82",
   "metadata": {
    "tags": []
   },
   "outputs": [
    {
     "data": {
      "text/plain": [
       "(2534, 5)"
      ]
     },
     "execution_count": 25,
     "metadata": {},
     "output_type": "execute_result"
    }
   ],
   "source": [
    "df.shape"
   ]
  },
  {
   "cell_type": "code",
   "execution_count": 26,
   "id": "ff58afad-6a87-49d9-b3f8-12ac7de8985d",
   "metadata": {
    "tags": []
   },
   "outputs": [
    {
     "data": {
      "text/plain": [
       "2128"
      ]
     },
     "execution_count": 26,
     "metadata": {},
     "output_type": "execute_result"
    }
   ],
   "source": [
    "df['name'].nunique()"
   ]
  },
  {
   "cell_type": "code",
   "execution_count": null,
   "id": "687990f4-3701-45fd-8cff-512910072620",
   "metadata": {},
   "outputs": [],
   "source": []
  },
  {
   "cell_type": "code",
   "execution_count": 16,
   "id": "7a8afb10-6461-4316-a58f-747c5daf5fe6",
   "metadata": {
    "tags": []
   },
   "outputs": [
    {
     "data": {
      "text/plain": [
       "'Storage128 GBRAM6  SystemAndroid 12Processor TypeMediatek Dimensity 1080Processor Speed2.6 50MP 8MP 2MP 50MP 16MP 5G Capacity5000 Display Size16.94 cm (6.67 inch)Resolution2400 x 1080 PixelsResolution TypeFull HD+ AMOLED DisplayGPUARM Mali-G68 MC4Display TypeFull HD+ AMOLED DisplayOther Display FeaturesRefresh Rate: 120 Hz, Contrast: 5,000,000:1, 1920Hz PWM Dimming, Brightness Level: 16000:1, Peak Brightness: 900 nits'"
      ]
     },
     "execution_count": 16,
     "metadata": {},
     "output_type": "execute_result"
    }
   ],
   "source": [
    "df[\"corpus\"].iloc[0]"
   ]
  },
  {
   "cell_type": "code",
   "execution_count": 5,
   "id": "ad351f5e-ca2b-439e-86d7-be82a4679a09",
   "metadata": {
    "tags": []
   },
   "outputs": [
    {
     "name": "stdout",
     "output_type": "stream",
     "text": [
      "<class 'pandas.core.frame.DataFrame'>\n",
      "RangeIndex: 2546 entries, 0 to 2545\n",
      "Data columns (total 5 columns):\n",
      " #   Column   Non-Null Count  Dtype  \n",
      "---  ------   --------------  -----  \n",
      " 0   name     2546 non-null   object \n",
      " 1   ratings  2546 non-null   float64\n",
      " 2   price    2546 non-null   object \n",
      " 3   imgURL   2546 non-null   object \n",
      " 4   corpus   2534 non-null   object \n",
      "dtypes: float64(1), object(4)\n",
      "memory usage: 99.6+ KB\n"
     ]
    }
   ],
   "source": [
    "df.info()"
   ]
  },
  {
   "cell_type": "code",
   "execution_count": 6,
   "id": "4868fb5e-5c1b-4b96-81e1-a6c07a1c3c98",
   "metadata": {
    "tags": []
   },
   "outputs": [],
   "source": [
    "df[\"price\"] = df[\"price\"].str.replace('₹', '').str.replace(',','').astype(int)"
   ]
  },
  {
   "cell_type": "code",
   "execution_count": 7,
   "id": "dd77f9b9-4109-4b32-8c87-a4c58db10b65",
   "metadata": {
    "tags": []
   },
   "outputs": [
    {
     "data": {
      "text/plain": [
       "0       23999\n",
       "1       20999\n",
       "2       13149\n",
       "3       21999\n",
       "4        3537\n",
       "        ...  \n",
       "2541    11999\n",
       "2542    30203\n",
       "2543     1549\n",
       "2544    20463\n",
       "2545    13999\n",
       "Name: price, Length: 2546, dtype: int32"
      ]
     },
     "execution_count": 7,
     "metadata": {},
     "output_type": "execute_result"
    }
   ],
   "source": [
    "df['price']"
   ]
  },
  {
   "cell_type": "code",
   "execution_count": 8,
   "id": "6c4c6bc1-f0f5-478c-bd3c-cdce415d7704",
   "metadata": {
    "tags": []
   },
   "outputs": [
    {
     "data": {
      "text/plain": [
       "<Axes: xlabel='ratings', ylabel='count'>"
      ]
     },
     "execution_count": 8,
     "metadata": {},
     "output_type": "execute_result"
    },
    {
     "data": {
      "image/png": "[encoded data removed]",
      "text/plain": [
       "<Figure size 640x480 with 1 Axes>"
      ]
     },
     "metadata": {},
     "output_type": "display_data"
    }
   ],
   "source": [
    "import matplotlib.pyplot as plt\n",
    "import seaborn as sn\n",
    "sn.set_palette(\"bright\")\n",
    "data = df['ratings']\n",
    "sn.countplot(x='ratings',data=df)"
   ]
  },
  {
   "cell_type": "code",
   "execution_count": 17,
   "id": "f8ef3c84-6e42-48bf-9d88-ec277460cce5",
   "metadata": {
    "tags": []
   },
   "outputs": [],
   "source": [
    "import spacy\n",
    "nlp = spacy.load(\"en_core_web_lg\")"
   ]
  },
  {
   "cell_type": "code",
   "execution_count": 67,
   "id": "a13a59d2-a5e9-4726-a151-f038ff041222",
   "metadata": {
    "tags": []
   },
   "outputs": [],
   "source": [
    "import re\n",
    "def process(text):\n",
    "    filtered = []\n",
    "    ptext = re.sub(r\"[^\\w]\", \" \", text)\n",
    "    ptext = re.sub(r\"\\s+\", \" \", ptext)\n",
    "    doc = nlp(ptext)\n",
    "    for token in doc:\n",
    "        if token.is_punct or token.is_stop:\n",
    "            continue\n",
    "        filtered.append(token.text.lower())  \n",
    "    return \" \".join(filtered)    "
   ]
  },
  {
   "cell_type": "code",
   "execution_count": 45,
   "id": "d3abd2d0-f528-4a63-aa55-e20f327a9af2",
   "metadata": {
    "tags": []
   },
   "outputs": [],
   "source": [
    "text = 'Storage128 GBRAM6  SystemAndroid 12Processor TypeMediatek Dimensity 1080Processor Speed2.6 50MP 8MP 2MP 50MP 16MP 5G Capacity5000 Display Size16.94 cm (6.67 inch)Resolution2400 x 1080 PixelsResolution TypeFull HD+ AMOLED DisplayGPUARM Mali-G68 MC4Display TypeFull HD+ AMOLED DisplayOther Display FeaturesRefresh Rate: 120 Hz, Contrast: 5,000,000:1, 1920Hz PWM Dimming, Brightness Level: 16000:1, Peak Brightness: 900 nits'"
   ]
  },
  {
   "cell_type": "code",
   "execution_count": 42,
   "id": "468f30df-04ea-447e-bc2e-471b170ced0f",
   "metadata": {
    "tags": []
   },
   "outputs": [],
   "source": [
    "ptext = re.sub(r\"[^\\w\\s]\", \" \", text)\n",
    "ptext = re.sub(r\"\\s+\", \" \", ptext)"
   ]
  },
  {
   "cell_type": "code",
   "execution_count": 43,
   "id": "7e749ef5-0ed2-4585-a4c8-177ced7bfb63",
   "metadata": {
    "tags": []
   },
   "outputs": [
    {
     "data": {
      "text/plain": [
       "'Storage128 GBRAM6 SystemAndroid 12Processor TypeMediatek Dimensity 1080Processor Speed2 6 50MP 8MP 2MP 50MP 16MP 5G Capacity5000 Display Size16 94 cm 6 67 inch Resolution2400 x 1080 PixelsResolution TypeFull HD AMOLED DisplayGPUARM Mali G68 MC4Display TypeFull HD AMOLED DisplayOther Display FeaturesRefresh Rate 120 Hz Contrast 5 000 000 1 1920Hz PWM Dimming Brightness Level 16000 1 Peak Brightness 900 nits'"
      ]
     },
     "execution_count": 43,
     "metadata": {},
     "output_type": "execute_result"
    }
   ],
   "source": [
    "ptext"
   ]
  },
  {
   "cell_type": "code",
   "execution_count": 46,
   "id": "30246cbe-d1aa-4557-a21b-b40c3ed2cfab",
   "metadata": {
    "tags": []
   },
   "outputs": [
    {
     "data": {
      "text/plain": [
       "'Storage128 GBRAM6 SystemAndroid 12Processor TypeMediatek Dimensity 1080Processor Speed2 6 50MP 8MP 2MP 50MP 16MP 5 G Capacity5000 Display Size16 94 cm 6 67 inch Resolution2400 x 1080 PixelsResolution TypeFull HD AMOLED DisplayGPUARM Mali G68 MC4Display TypeFull HD AMOLED DisplayOther Display FeaturesRefresh Rate 120 Hz Contrast 5 000 000 1 1920Hz PWM Dimming Brightness Level 16000 1 Peak Brightness 900 nits'"
      ]
     },
     "execution_count": 46,
     "metadata": {},
     "output_type": "execute_result"
    }
   ],
   "source": [
    "process(text)"
   ]
  },
  {
   "cell_type": "code",
   "execution_count": 68,
   "id": "658ac0d5-5c47-46a5-bffc-9124d00e6542",
   "metadata": {
    "tags": []
   },
   "outputs": [
    {
     "data": {
      "text/plain": [
       "'redmi note 12 pro 5 g onyx black 128 gb'"
      ]
     },
     "execution_count": 68,
     "metadata": {},
     "output_type": "execute_result"
    }
   ],
   "source": [
    "process('REDMI Note 12 Pro 5G (Onyx Black, 128 GB)')"
   ]
  },
  {
   "cell_type": "code",
   "execution_count": 69,
   "id": "06d489c3-2e5c-4c40-bd42-a9c9fa95a59e",
   "metadata": {
    "tags": []
   },
   "outputs": [],
   "source": [
    "df[\"corpus\"] = df[\"corpus\"].apply(process)"
   ]
  },
  {
   "cell_type": "code",
   "execution_count": 70,
   "id": "f31d594e-8d24-4ba1-828d-27110c55ddc7",
   "metadata": {
    "tags": []
   },
   "outputs": [],
   "source": [
    "df[\"name\"] = df[\"name\"].apply(process)"
   ]
  },
  {
   "cell_type": "code",
   "execution_count": 96,
   "id": "16078008-3c77-4579-9b12-020b99e931e9",
   "metadata": {
    "tags": []
   },
   "outputs": [
    {
     "data": {
      "text/html": [
       "<div>\n",
       "<style scoped>\n",
       "    .dataframe tbody tr th:only-of-type {\n",
       "        vertical-align: middle;\n",
       "    }\n",
       "\n",
       "    .dataframe tbody tr th {\n",
       "        vertical-align: top;\n",
       "    }\n",
       "\n",
       "    .dataframe thead th {\n",
       "        text-align: right;\n",
       "    }\n",
       "</style>\n",
       "<table border=\"1\" class=\"dataframe\">\n",
       "  <thead>\n",
       "    <tr style=\"text-align: right;\">\n",
       "      <th></th>\n",
       "      <th>name</th>\n",
       "      <th>ratings</th>\n",
       "      <th>price</th>\n",
       "      <th>imgURL</th>\n",
       "      <th>corpus</th>\n",
       "    </tr>\n",
       "  </thead>\n",
       "  <tbody>\n",
       "    <tr>\n",
       "      <th>0</th>\n",
       "      <td>redmi note 12 pro 5 g onyx black 128 gb</td>\n",
       "      <td>4.2</td>\n",
       "      <td>23999</td>\n",
       "      <td>https://rukminim2.flixcart.com/image/312/312/x...</td>\n",
       "      <td>storage128 gbram6 systemandroid 12processor ty...</td>\n",
       "    </tr>\n",
       "    <tr>\n",
       "      <th>1</th>\n",
       "      <td>oppo f11 pro aurora green 128 gb</td>\n",
       "      <td>4.5</td>\n",
       "      <td>20999</td>\n",
       "      <td>https://rukminim2.flixcart.com/image/312/312/k...</td>\n",
       "      <td>storage128 gbram6 gbexpandable storage256 gb s...</td>\n",
       "    </tr>\n",
       "    <tr>\n",
       "      <th>2</th>\n",
       "      <td>redmi note 11 starburst white 64 gb</td>\n",
       "      <td>4.2</td>\n",
       "      <td>13149</td>\n",
       "      <td>https://rukminim2.flixcart.com/image/312/312/x...</td>\n",
       "      <td>storage64 gbram4 systemandroid 11processor spe...</td>\n",
       "    </tr>\n",
       "    <tr>\n",
       "      <th>3</th>\n",
       "      <td>oneplus nord ce 5 g blue void 256 gb</td>\n",
       "      <td>4.1</td>\n",
       "      <td>21999</td>\n",
       "      <td>https://rukminim2.flixcart.com/image/312/312/x...</td>\n",
       "      <td>storage256 gbram12 systemandroid q 11processor...</td>\n",
       "    </tr>\n",
       "    <tr>\n",
       "      <th>4</th>\n",
       "      <td>apple iphone 13 mini blue 128 gb</td>\n",
       "      <td>4.6</td>\n",
       "      <td>3537</td>\n",
       "      <td>https://rukminim2.flixcart.com/image/312/312/k...</td>\n",
       "      <td>storage128 systemios 15processor typea15 bioni...</td>\n",
       "    </tr>\n",
       "  </tbody>\n",
       "</table>\n",
       "</div>"
      ],
      "text/plain": [
       "                                      name  ratings  price  \\\n",
       "0  redmi note 12 pro 5 g onyx black 128 gb      4.2  23999   \n",
       "1         oppo f11 pro aurora green 128 gb      4.5  20999   \n",
       "2      redmi note 11 starburst white 64 gb      4.2  13149   \n",
       "3     oneplus nord ce 5 g blue void 256 gb      4.1  21999   \n",
       "4         apple iphone 13 mini blue 128 gb      4.6   3537   \n",
       "\n",
       "                                              imgURL  \\\n",
       "0  https://rukminim2.flixcart.com/image/312/312/x...   \n",
       "1  https://rukminim2.flixcart.com/image/312/312/k...   \n",
       "2  https://rukminim2.flixcart.com/image/312/312/x...   \n",
       "3  https://rukminim2.flixcart.com/image/312/312/x...   \n",
       "4  https://rukminim2.flixcart.com/image/312/312/k...   \n",
       "\n",
       "                                              corpus  \n",
       "0  storage128 gbram6 systemandroid 12processor ty...  \n",
       "1  storage128 gbram6 gbexpandable storage256 gb s...  \n",
       "2  storage64 gbram4 systemandroid 11processor spe...  \n",
       "3  storage256 gbram12 systemandroid q 11processor...  \n",
       "4  storage128 systemios 15processor typea15 bioni...  "
      ]
     },
     "execution_count": 96,
     "metadata": {},
     "output_type": "execute_result"
    }
   ],
   "source": [
    "df.head()"
   ]
  },
  {
   "cell_type": "code",
   "execution_count": 97,
   "id": "3d890c5d-0498-463f-8d04-44e1296cdbc2",
   "metadata": {
    "tags": []
   },
   "outputs": [],
   "source": [
    "df.drop_duplicates(subset = [\"name\"],inplace = True,keep='first')"
   ]
  },
  {
   "cell_type": "code",
   "execution_count": 98,
   "id": "839c0ca2-0560-45a6-950f-60ee83cbc9ca",
   "metadata": {
    "tags": []
   },
   "outputs": [
    {
     "data": {
      "text/plain": [
       "(2096, 5)"
      ]
     },
     "execution_count": 98,
     "metadata": {},
     "output_type": "execute_result"
    }
   ],
   "source": [
    "df.shape"
   ]
  },
  {
   "cell_type": "code",
   "execution_count": 99,
   "id": "9f324317-fffd-45e5-b0bf-ddf2e3cc1853",
   "metadata": {
    "tags": []
   },
   "outputs": [],
   "source": [
    "df.reset_index(drop=True,inplace=True)"
   ]
  },
  {
   "cell_type": "code",
   "execution_count": 100,
   "id": "052b46a0-487c-4600-82f9-6a8a541070de",
   "metadata": {
    "tags": []
   },
   "outputs": [],
   "source": [
    "from sklearn.feature_extraction.text import TfidfVectorizer\n",
    "vectorizer = TfidfVectorizer()"
   ]
  },
  {
   "cell_type": "code",
   "execution_count": 101,
   "id": "d777b696-955d-4826-a556-8287131bef49",
   "metadata": {
    "tags": []
   },
   "outputs": [],
   "source": [
    "tfid_matrix = vectorizer.fit_transform(df[\"corpus\"])"
   ]
  },
  {
   "cell_type": "code",
   "execution_count": 102,
   "id": "1eac4758-3af4-4716-9e46-846f509fbcfc",
   "metadata": {
    "tags": []
   },
   "outputs": [
    {
     "data": {
      "text/plain": [
       "<2096x1794 sparse matrix of type '<class 'numpy.float64'>'\n",
       "\twith 84715 stored elements in Compressed Sparse Row format>"
      ]
     },
     "execution_count": 102,
     "metadata": {},
     "output_type": "execute_result"
    }
   ],
   "source": [
    "tfid_matrix"
   ]
  },
  {
   "cell_type": "code",
   "execution_count": 103,
   "id": "f8f25be8-0be8-4ad8-a28b-fc415ab290f3",
   "metadata": {
    "tags": []
   },
   "outputs": [],
   "source": [
    "from sklearn.metrics.pairwise import cosine_similarity"
   ]
  },
  {
   "cell_type": "code",
   "execution_count": 104,
   "id": "62717663-630d-45d3-aa9b-580cb9fea566",
   "metadata": {
    "tags": []
   },
   "outputs": [],
   "source": [
    "cos_sim = cosine_similarity(tfid_matrix,tfid_matrix)"
   ]
  },
  {
   "cell_type": "code",
   "execution_count": 105,
   "id": "918df051-9941-4d06-87de-f4feac11a018",
   "metadata": {
    "tags": []
   },
   "outputs": [
    {
     "data": {
      "text/plain": [
       "array([[1.        , 0.10282128, 0.14463731, ..., 0.22018589, 0.09467916,\n",
       "        0.10333634],\n",
       "       [0.10282128, 1.        , 0.03374633, ..., 0.09761864, 0.06345556,\n",
       "        0.17802726],\n",
       "       [0.14463731, 0.03374633, 1.        , ..., 0.06711673, 0.19952552,\n",
       "        0.07581006],\n",
       "       ...,\n",
       "       [0.22018589, 0.09761864, 0.06711673, ..., 1.        , 0.0665365 ,\n",
       "        0.13644178],\n",
       "       [0.09467916, 0.06345556, 0.19952552, ..., 0.0665365 , 1.        ,\n",
       "        0.07389368],\n",
       "       [0.10333634, 0.17802726, 0.07581006, ..., 0.13644178, 0.07389368,\n",
       "        1.        ]])"
      ]
     },
     "execution_count": 105,
     "metadata": {},
     "output_type": "execute_result"
    }
   ],
   "source": [
    "cos_sim"
   ]
  },
  {
   "cell_type": "code",
   "execution_count": 110,
   "id": "5ac4deae-a620-44e4-b1f1-9130b7d92054",
   "metadata": {
    "tags": []
   },
   "outputs": [],
   "source": [
    "def recommend(name,n_recommend = 5):\n",
    "    index = df[df['name'] == name].index[0]\n",
    "    sim_score = list(enumerate(cos_sim[index]))\n",
    "    sim_score = sorted(sim_score, key=lambda x: x[1], reverse=True)\n",
    "    top_recommend = [df.iloc[score[0]] for score in sim_score[1:n_recommend + 1]]\n",
    "    return top_recommend"
   ]
  },
  {
   "cell_type": "code",
   "execution_count": 112,
   "id": "ec3b79a1-2c3c-4848-93c2-2d192c54f1c7",
   "metadata": {
    "tags": []
   },
   "outputs": [
    {
     "data": {
      "text/plain": [
       "[name                 apple iphone 13 mini product red 128 gb\n",
       " ratings                                                  4.7\n",
       " price                                                   3537\n",
       " imgURL     https://rukminim2.flixcart.com/image/312/312/k...\n",
       " corpus     storage128 systemios 15processor typea15 bioni...\n",
       " Name: 408, dtype: object,\n",
       " name                   apple iphone 13 mini starlight 128 gb\n",
       " ratings                                                  4.5\n",
       " price                                                   3537\n",
       " imgURL     https://rukminim2.flixcart.com/image/312/312/k...\n",
       " corpus     storage128 systemios 15processor typea15 bioni...\n",
       " Name: 673, dtype: object,\n",
       " name                       apple iphone 13 mini green 128 gb\n",
       " ratings                                                  4.7\n",
       " price                                                   3537\n",
       " imgURL     https://rukminim2.flixcart.com/image/312/312/l...\n",
       " corpus     storage128 systemios 15processor typea15 bioni...\n",
       " Name: 1238, dtype: object,\n",
       " name                       apple iphone 13 mini green 256 gb\n",
       " ratings                                                  4.5\n",
       " price                                                   6463\n",
       " imgURL     https://rukminim2.flixcart.com/image/312/312/l...\n",
       " corpus     storage256 systemios 15processor typea15 bioni...\n",
       " Name: 633, dtype: object,\n",
       " name                    apple iphone 13 mini midnight 256 gb\n",
       " ratings                                                  4.5\n",
       " price                                                   6463\n",
       " imgURL     https://rukminim2.flixcart.com/image/312/312/k...\n",
       " corpus     storage256 systemios 15processor typea15 bioni...\n",
       " Name: 1180, dtype: object]"
      ]
     },
     "execution_count": 112,
     "metadata": {},
     "output_type": "execute_result"
    }
   ],
   "source": [
    "recommend(\"apple iphone 13 mini blue 128 gb\")"
   ]
  },
  {
   "cell_type": "code",
   "execution_count": null,
   "id": "4683d55b-6feb-4318-bdd3-27a83817cf42",
   "metadata": {},
   "outputs": [],
   "source": []
  }
 ],
 "metadata": {
  "kernelspec": {
   "display_name": "Python 3 (ipykernel)",
   "language": "python",
   "name": "python3"
  },
  "language_info": {
   "codemirror_mode": {
    "name": "ipython",
    "version": 3
   },
   "file_extension": ".py",
   "mimetype": "text/x-python",
   "name": "python",
   "nbconvert_exporter": "python",
   "pygments_lexer": "ipython3",
   "version": "3.11.4"
  }
 },
 "nbformat": 4,
 "nbformat_minor": 5
}
