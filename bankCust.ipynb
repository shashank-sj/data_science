{
 "cells": [
  {
   "cell_type": "code",
   "execution_count": 1,
   "id": "e2dde5fa-bfc5-471e-bc2a-75d06a419459",
   "metadata": {
    "tags": []
   },
   "outputs": [],
   "source": [
    "import pandas as pd\n",
    "import tensorflow as tf\n",
    "import numpy as np\n",
    "from sklearn.model_selection import train_test_split\n",
    "from tensorflow import keras"
   ]
  },
  {
   "cell_type": "code",
   "execution_count": 2,
   "id": "fda24bf3-b935-416f-887d-70749ab41ff2",
   "metadata": {
    "tags": []
   },
   "outputs": [
    {
     "data": {
      "text/html": [
       "<div>\n",
       "<style scoped>\n",
       "    .dataframe tbody tr th:only-of-type {\n",
       "        vertical-align: middle;\n",
       "    }\n",
       "\n",
       "    .dataframe tbody tr th {\n",
       "        vertical-align: top;\n",
       "    }\n",
       "\n",
       "    .dataframe thead th {\n",
       "        text-align: right;\n",
       "    }\n",
       "</style>\n",
       "<table border=\"1\" class=\"dataframe\">\n",
       "  <thead>\n",
       "    <tr style=\"text-align: right;\">\n",
       "      <th></th>\n",
       "      <th>RowNumber</th>\n",
       "      <th>CustomerId</th>\n",
       "      <th>Surname</th>\n",
       "      <th>CreditScore</th>\n",
       "      <th>Geography</th>\n",
       "      <th>Gender</th>\n",
       "      <th>Age</th>\n",
       "      <th>Tenure</th>\n",
       "      <th>Balance</th>\n",
       "      <th>NumOfProducts</th>\n",
       "      <th>HasCrCard</th>\n",
       "      <th>IsActiveMember</th>\n",
       "      <th>EstimatedSalary</th>\n",
       "      <th>Exited</th>\n",
       "    </tr>\n",
       "  </thead>\n",
       "  <tbody>\n",
       "    <tr>\n",
       "      <th>0</th>\n",
       "      <td>1</td>\n",
       "      <td>15634602</td>\n",
       "      <td>Hargrave</td>\n",
       "      <td>619</td>\n",
       "      <td>France</td>\n",
       "      <td>Female</td>\n",
       "      <td>42</td>\n",
       "      <td>2</td>\n",
       "      <td>0.00</td>\n",
       "      <td>1</td>\n",
       "      <td>1</td>\n",
       "      <td>1</td>\n",
       "      <td>101348.88</td>\n",
       "      <td>1</td>\n",
       "    </tr>\n",
       "    <tr>\n",
       "      <th>1</th>\n",
       "      <td>2</td>\n",
       "      <td>15647311</td>\n",
       "      <td>Hill</td>\n",
       "      <td>608</td>\n",
       "      <td>Spain</td>\n",
       "      <td>Female</td>\n",
       "      <td>41</td>\n",
       "      <td>1</td>\n",
       "      <td>83807.86</td>\n",
       "      <td>1</td>\n",
       "      <td>0</td>\n",
       "      <td>1</td>\n",
       "      <td>112542.58</td>\n",
       "      <td>0</td>\n",
       "    </tr>\n",
       "    <tr>\n",
       "      <th>2</th>\n",
       "      <td>3</td>\n",
       "      <td>15619304</td>\n",
       "      <td>Onio</td>\n",
       "      <td>502</td>\n",
       "      <td>France</td>\n",
       "      <td>Female</td>\n",
       "      <td>42</td>\n",
       "      <td>8</td>\n",
       "      <td>159660.80</td>\n",
       "      <td>3</td>\n",
       "      <td>1</td>\n",
       "      <td>0</td>\n",
       "      <td>113931.57</td>\n",
       "      <td>1</td>\n",
       "    </tr>\n",
       "    <tr>\n",
       "      <th>3</th>\n",
       "      <td>4</td>\n",
       "      <td>15701354</td>\n",
       "      <td>Boni</td>\n",
       "      <td>699</td>\n",
       "      <td>France</td>\n",
       "      <td>Female</td>\n",
       "      <td>39</td>\n",
       "      <td>1</td>\n",
       "      <td>0.00</td>\n",
       "      <td>2</td>\n",
       "      <td>0</td>\n",
       "      <td>0</td>\n",
       "      <td>93826.63</td>\n",
       "      <td>0</td>\n",
       "    </tr>\n",
       "    <tr>\n",
       "      <th>4</th>\n",
       "      <td>5</td>\n",
       "      <td>15737888</td>\n",
       "      <td>Mitchell</td>\n",
       "      <td>850</td>\n",
       "      <td>Spain</td>\n",
       "      <td>Female</td>\n",
       "      <td>43</td>\n",
       "      <td>2</td>\n",
       "      <td>125510.82</td>\n",
       "      <td>1</td>\n",
       "      <td>1</td>\n",
       "      <td>1</td>\n",
       "      <td>79084.10</td>\n",
       "      <td>0</td>\n",
       "    </tr>\n",
       "    <tr>\n",
       "      <th>...</th>\n",
       "      <td>...</td>\n",
       "      <td>...</td>\n",
       "      <td>...</td>\n",
       "      <td>...</td>\n",
       "      <td>...</td>\n",
       "      <td>...</td>\n",
       "      <td>...</td>\n",
       "      <td>...</td>\n",
       "      <td>...</td>\n",
       "      <td>...</td>\n",
       "      <td>...</td>\n",
       "      <td>...</td>\n",
       "      <td>...</td>\n",
       "      <td>...</td>\n",
       "    </tr>\n",
       "    <tr>\n",
       "      <th>9995</th>\n",
       "      <td>9996</td>\n",
       "      <td>15606229</td>\n",
       "      <td>Obijiaku</td>\n",
       "      <td>771</td>\n",
       "      <td>France</td>\n",
       "      <td>Male</td>\n",
       "      <td>39</td>\n",
       "      <td>5</td>\n",
       "      <td>0.00</td>\n",
       "      <td>2</td>\n",
       "      <td>1</td>\n",
       "      <td>0</td>\n",
       "      <td>96270.64</td>\n",
       "      <td>0</td>\n",
       "    </tr>\n",
       "    <tr>\n",
       "      <th>9996</th>\n",
       "      <td>9997</td>\n",
       "      <td>15569892</td>\n",
       "      <td>Johnstone</td>\n",
       "      <td>516</td>\n",
       "      <td>France</td>\n",
       "      <td>Male</td>\n",
       "      <td>35</td>\n",
       "      <td>10</td>\n",
       "      <td>57369.61</td>\n",
       "      <td>1</td>\n",
       "      <td>1</td>\n",
       "      <td>1</td>\n",
       "      <td>101699.77</td>\n",
       "      <td>0</td>\n",
       "    </tr>\n",
       "    <tr>\n",
       "      <th>9997</th>\n",
       "      <td>9998</td>\n",
       "      <td>15584532</td>\n",
       "      <td>Liu</td>\n",
       "      <td>709</td>\n",
       "      <td>France</td>\n",
       "      <td>Female</td>\n",
       "      <td>36</td>\n",
       "      <td>7</td>\n",
       "      <td>0.00</td>\n",
       "      <td>1</td>\n",
       "      <td>0</td>\n",
       "      <td>1</td>\n",
       "      <td>42085.58</td>\n",
       "      <td>1</td>\n",
       "    </tr>\n",
       "    <tr>\n",
       "      <th>9998</th>\n",
       "      <td>9999</td>\n",
       "      <td>15682355</td>\n",
       "      <td>Sabbatini</td>\n",
       "      <td>772</td>\n",
       "      <td>Germany</td>\n",
       "      <td>Male</td>\n",
       "      <td>42</td>\n",
       "      <td>3</td>\n",
       "      <td>75075.31</td>\n",
       "      <td>2</td>\n",
       "      <td>1</td>\n",
       "      <td>0</td>\n",
       "      <td>92888.52</td>\n",
       "      <td>1</td>\n",
       "    </tr>\n",
       "    <tr>\n",
       "      <th>9999</th>\n",
       "      <td>10000</td>\n",
       "      <td>15628319</td>\n",
       "      <td>Walker</td>\n",
       "      <td>792</td>\n",
       "      <td>France</td>\n",
       "      <td>Female</td>\n",
       "      <td>28</td>\n",
       "      <td>4</td>\n",
       "      <td>130142.79</td>\n",
       "      <td>1</td>\n",
       "      <td>1</td>\n",
       "      <td>0</td>\n",
       "      <td>38190.78</td>\n",
       "      <td>0</td>\n",
       "    </tr>\n",
       "  </tbody>\n",
       "</table>\n",
       "<p>10000 rows × 14 columns</p>\n",
       "</div>"
      ],
      "text/plain": [
       "      RowNumber  CustomerId    Surname  CreditScore Geography  Gender  Age  \\\n",
       "0             1    15634602   Hargrave          619    France  Female   42   \n",
       "1             2    15647311       Hill          608     Spain  Female   41   \n",
       "2             3    15619304       Onio          502    France  Female   42   \n",
       "3             4    15701354       Boni          699    France  Female   39   \n",
       "4             5    15737888   Mitchell          850     Spain  Female   43   \n",
       "...         ...         ...        ...          ...       ...     ...  ...   \n",
       "9995       9996    15606229   Obijiaku          771    France    Male   39   \n",
       "9996       9997    15569892  Johnstone          516    France    Male   35   \n",
       "9997       9998    15584532        Liu          709    France  Female   36   \n",
       "9998       9999    15682355  Sabbatini          772   Germany    Male   42   \n",
       "9999      10000    15628319     Walker          792    France  Female   28   \n",
       "\n",
       "      Tenure    Balance  NumOfProducts  HasCrCard  IsActiveMember  \\\n",
       "0          2       0.00              1          1               1   \n",
       "1          1   83807.86              1          0               1   \n",
       "2          8  159660.80              3          1               0   \n",
       "3          1       0.00              2          0               0   \n",
       "4          2  125510.82              1          1               1   \n",
       "...      ...        ...            ...        ...             ...   \n",
       "9995       5       0.00              2          1               0   \n",
       "9996      10   57369.61              1          1               1   \n",
       "9997       7       0.00              1          0               1   \n",
       "9998       3   75075.31              2          1               0   \n",
       "9999       4  130142.79              1          1               0   \n",
       "\n",
       "      EstimatedSalary  Exited  \n",
       "0           101348.88       1  \n",
       "1           112542.58       0  \n",
       "2           113931.57       1  \n",
       "3            93826.63       0  \n",
       "4            79084.10       0  \n",
       "...               ...     ...  \n",
       "9995         96270.64       0  \n",
       "9996        101699.77       0  \n",
       "9997         42085.58       1  \n",
       "9998         92888.52       1  \n",
       "9999         38190.78       0  \n",
       "\n",
       "[10000 rows x 14 columns]"
      ]
     },
     "execution_count": 2,
     "metadata": {},
     "output_type": "execute_result"
    }
   ],
   "source": [
    "df = pd.read_csv('Churn_Modelling.csv')\n",
    "df"
   ]
  },
  {
   "cell_type": "code",
   "execution_count": 3,
   "id": "f3f337b3-8ba6-4c8a-be73-e34ae0d8ada3",
   "metadata": {
    "tags": []
   },
   "outputs": [],
   "source": [
    "df.drop(['RowNumber','CustomerId','Surname'],axis= 1, inplace = True)"
   ]
  },
  {
   "cell_type": "code",
   "execution_count": 4,
   "id": "8fee25cf-c23e-4074-9c07-ed667c0c1802",
   "metadata": {
    "tags": []
   },
   "outputs": [],
   "source": [
    "df['Gender'].replace({'Female':1,'Male':0},inplace=True)"
   ]
  },
  {
   "cell_type": "code",
   "execution_count": 5,
   "id": "f48b122b-0b5a-40ab-b691-e4602c1bbf80",
   "metadata": {
    "tags": []
   },
   "outputs": [
    {
     "data": {
      "text/html": [
       "<div>\n",
       "<style scoped>\n",
       "    .dataframe tbody tr th:only-of-type {\n",
       "        vertical-align: middle;\n",
       "    }\n",
       "\n",
       "    .dataframe tbody tr th {\n",
       "        vertical-align: top;\n",
       "    }\n",
       "\n",
       "    .dataframe thead th {\n",
       "        text-align: right;\n",
       "    }\n",
       "</style>\n",
       "<table border=\"1\" class=\"dataframe\">\n",
       "  <thead>\n",
       "    <tr style=\"text-align: right;\">\n",
       "      <th></th>\n",
       "      <th>CreditScore</th>\n",
       "      <th>Geography</th>\n",
       "      <th>Gender</th>\n",
       "      <th>Age</th>\n",
       "      <th>Tenure</th>\n",
       "      <th>Balance</th>\n",
       "      <th>NumOfProducts</th>\n",
       "      <th>HasCrCard</th>\n",
       "      <th>IsActiveMember</th>\n",
       "      <th>EstimatedSalary</th>\n",
       "      <th>Exited</th>\n",
       "    </tr>\n",
       "  </thead>\n",
       "  <tbody>\n",
       "    <tr>\n",
       "      <th>0</th>\n",
       "      <td>619</td>\n",
       "      <td>France</td>\n",
       "      <td>1</td>\n",
       "      <td>42</td>\n",
       "      <td>2</td>\n",
       "      <td>0.00</td>\n",
       "      <td>1</td>\n",
       "      <td>1</td>\n",
       "      <td>1</td>\n",
       "      <td>101348.88</td>\n",
       "      <td>1</td>\n",
       "    </tr>\n",
       "    <tr>\n",
       "      <th>1</th>\n",
       "      <td>608</td>\n",
       "      <td>Spain</td>\n",
       "      <td>1</td>\n",
       "      <td>41</td>\n",
       "      <td>1</td>\n",
       "      <td>83807.86</td>\n",
       "      <td>1</td>\n",
       "      <td>0</td>\n",
       "      <td>1</td>\n",
       "      <td>112542.58</td>\n",
       "      <td>0</td>\n",
       "    </tr>\n",
       "    <tr>\n",
       "      <th>2</th>\n",
       "      <td>502</td>\n",
       "      <td>France</td>\n",
       "      <td>1</td>\n",
       "      <td>42</td>\n",
       "      <td>8</td>\n",
       "      <td>159660.80</td>\n",
       "      <td>3</td>\n",
       "      <td>1</td>\n",
       "      <td>0</td>\n",
       "      <td>113931.57</td>\n",
       "      <td>1</td>\n",
       "    </tr>\n",
       "    <tr>\n",
       "      <th>3</th>\n",
       "      <td>699</td>\n",
       "      <td>France</td>\n",
       "      <td>1</td>\n",
       "      <td>39</td>\n",
       "      <td>1</td>\n",
       "      <td>0.00</td>\n",
       "      <td>2</td>\n",
       "      <td>0</td>\n",
       "      <td>0</td>\n",
       "      <td>93826.63</td>\n",
       "      <td>0</td>\n",
       "    </tr>\n",
       "    <tr>\n",
       "      <th>4</th>\n",
       "      <td>850</td>\n",
       "      <td>Spain</td>\n",
       "      <td>1</td>\n",
       "      <td>43</td>\n",
       "      <td>2</td>\n",
       "      <td>125510.82</td>\n",
       "      <td>1</td>\n",
       "      <td>1</td>\n",
       "      <td>1</td>\n",
       "      <td>79084.10</td>\n",
       "      <td>0</td>\n",
       "    </tr>\n",
       "    <tr>\n",
       "      <th>...</th>\n",
       "      <td>...</td>\n",
       "      <td>...</td>\n",
       "      <td>...</td>\n",
       "      <td>...</td>\n",
       "      <td>...</td>\n",
       "      <td>...</td>\n",
       "      <td>...</td>\n",
       "      <td>...</td>\n",
       "      <td>...</td>\n",
       "      <td>...</td>\n",
       "      <td>...</td>\n",
       "    </tr>\n",
       "    <tr>\n",
       "      <th>9995</th>\n",
       "      <td>771</td>\n",
       "      <td>France</td>\n",
       "      <td>0</td>\n",
       "      <td>39</td>\n",
       "      <td>5</td>\n",
       "      <td>0.00</td>\n",
       "      <td>2</td>\n",
       "      <td>1</td>\n",
       "      <td>0</td>\n",
       "      <td>96270.64</td>\n",
       "      <td>0</td>\n",
       "    </tr>\n",
       "    <tr>\n",
       "      <th>9996</th>\n",
       "      <td>516</td>\n",
       "      <td>France</td>\n",
       "      <td>0</td>\n",
       "      <td>35</td>\n",
       "      <td>10</td>\n",
       "      <td>57369.61</td>\n",
       "      <td>1</td>\n",
       "      <td>1</td>\n",
       "      <td>1</td>\n",
       "      <td>101699.77</td>\n",
       "      <td>0</td>\n",
       "    </tr>\n",
       "    <tr>\n",
       "      <th>9997</th>\n",
       "      <td>709</td>\n",
       "      <td>France</td>\n",
       "      <td>1</td>\n",
       "      <td>36</td>\n",
       "      <td>7</td>\n",
       "      <td>0.00</td>\n",
       "      <td>1</td>\n",
       "      <td>0</td>\n",
       "      <td>1</td>\n",
       "      <td>42085.58</td>\n",
       "      <td>1</td>\n",
       "    </tr>\n",
       "    <tr>\n",
       "      <th>9998</th>\n",
       "      <td>772</td>\n",
       "      <td>Germany</td>\n",
       "      <td>0</td>\n",
       "      <td>42</td>\n",
       "      <td>3</td>\n",
       "      <td>75075.31</td>\n",
       "      <td>2</td>\n",
       "      <td>1</td>\n",
       "      <td>0</td>\n",
       "      <td>92888.52</td>\n",
       "      <td>1</td>\n",
       "    </tr>\n",
       "    <tr>\n",
       "      <th>9999</th>\n",
       "      <td>792</td>\n",
       "      <td>France</td>\n",
       "      <td>1</td>\n",
       "      <td>28</td>\n",
       "      <td>4</td>\n",
       "      <td>130142.79</td>\n",
       "      <td>1</td>\n",
       "      <td>1</td>\n",
       "      <td>0</td>\n",
       "      <td>38190.78</td>\n",
       "      <td>0</td>\n",
       "    </tr>\n",
       "  </tbody>\n",
       "</table>\n",
       "<p>10000 rows × 11 columns</p>\n",
       "</div>"
      ],
      "text/plain": [
       "      CreditScore Geography  Gender  Age  Tenure    Balance  NumOfProducts  \\\n",
       "0             619    France       1   42       2       0.00              1   \n",
       "1             608     Spain       1   41       1   83807.86              1   \n",
       "2             502    France       1   42       8  159660.80              3   \n",
       "3             699    France       1   39       1       0.00              2   \n",
       "4             850     Spain       1   43       2  125510.82              1   \n",
       "...           ...       ...     ...  ...     ...        ...            ...   \n",
       "9995          771    France       0   39       5       0.00              2   \n",
       "9996          516    France       0   35      10   57369.61              1   \n",
       "9997          709    France       1   36       7       0.00              1   \n",
       "9998          772   Germany       0   42       3   75075.31              2   \n",
       "9999          792    France       1   28       4  130142.79              1   \n",
       "\n",
       "      HasCrCard  IsActiveMember  EstimatedSalary  Exited  \n",
       "0             1               1        101348.88       1  \n",
       "1             0               1        112542.58       0  \n",
       "2             1               0        113931.57       1  \n",
       "3             0               0         93826.63       0  \n",
       "4             1               1         79084.10       0  \n",
       "...         ...             ...              ...     ...  \n",
       "9995          1               0         96270.64       0  \n",
       "9996          1               1        101699.77       0  \n",
       "9997          0               1         42085.58       1  \n",
       "9998          1               0         92888.52       1  \n",
       "9999          1               0         38190.78       0  \n",
       "\n",
       "[10000 rows x 11 columns]"
      ]
     },
     "execution_count": 5,
     "metadata": {},
     "output_type": "execute_result"
    }
   ],
   "source": [
    "df"
   ]
  },
  {
   "cell_type": "code",
   "execution_count": 6,
   "id": "43b5f8f0-08dd-4ffa-a462-f6fbe8023fec",
   "metadata": {
    "tags": []
   },
   "outputs": [
    {
     "data": {
      "text/plain": [
       "<matplotlib.legend.Legend at 0x1c4f9216710>"
      ]
     },
     "execution_count": 6,
     "metadata": {},
     "output_type": "execute_result"
    },
    {
     "data": {
      "image/png": "[encoded data removed]",
      "text/plain": [
       "<Figure size 640x480 with 1 Axes>"
      ]
     },
     "metadata": {},
     "output_type": "display_data"
    }
   ],
   "source": [
    "import matplotlib.pyplot as plt\n",
    "%matplotlib inline\n",
    "t_y = df[df.Exited == 1].Tenure\n",
    "t_n = df[df.Exited == 0].Tenure\n",
    "plt.hist([t_y,t_n], alpha=0.5, label=['Exited','Not Exited'],color = ['g','r'])\n",
    "plt.xlabel('Tenure')\n",
    "plt.ylabel('number of customerr')\n",
    "plt.title('customer exited visualization')\n",
    "plt.legend()"
   ]
  },
  {
   "cell_type": "code",
   "execution_count": 7,
   "id": "934ba90c-c858-412e-8bf3-d9e2f785ad8e",
   "metadata": {
    "tags": []
   },
   "outputs": [
    {
     "data": {
      "text/plain": [
       "1        1\n",
       "3        1\n",
       "4        2\n",
       "6        7\n",
       "8        4\n",
       "        ..\n",
       "9993     7\n",
       "9994     2\n",
       "9995     5\n",
       "9996    10\n",
       "9999     4\n",
       "Name: Tenure, Length: 7963, dtype: int64"
      ]
     },
     "execution_count": 7,
     "metadata": {},
     "output_type": "execute_result"
    }
   ],
   "source": [
    "t_n"
   ]
  },
  {
   "cell_type": "code",
   "execution_count": 8,
   "id": "2841dc94-32f3-467d-92ab-f1e1398189d9",
   "metadata": {
    "tags": []
   },
   "outputs": [
    {
     "data": {
      "text/plain": [
       "CreditScore        0\n",
       "Geography          0\n",
       "Gender             0\n",
       "Age                0\n",
       "Tenure             0\n",
       "Balance            0\n",
       "NumOfProducts      0\n",
       "HasCrCard          0\n",
       "IsActiveMember     0\n",
       "EstimatedSalary    0\n",
       "Exited             0\n",
       "dtype: int64"
      ]
     },
     "execution_count": 8,
     "metadata": {},
     "output_type": "execute_result"
    }
   ],
   "source": [
    "df.isna().sum()"
   ]
  },
  {
   "cell_type": "code",
   "execution_count": 9,
   "id": "dbef095a-0319-4f1d-9767-cfe80cd66374",
   "metadata": {
    "tags": []
   },
   "outputs": [
    {
     "data": {
      "text/plain": [
       "CreditScore          int64\n",
       "Geography           object\n",
       "Gender               int64\n",
       "Age                  int64\n",
       "Tenure               int64\n",
       "Balance            float64\n",
       "NumOfProducts        int64\n",
       "HasCrCard            int64\n",
       "IsActiveMember       int64\n",
       "EstimatedSalary    float64\n",
       "Exited               int64\n",
       "dtype: object"
      ]
     },
     "execution_count": 9,
     "metadata": {},
     "output_type": "execute_result"
    }
   ],
   "source": [
    "df.dtypes\n"
   ]
  },
  {
   "cell_type": "code",
   "execution_count": 10,
   "id": "87eb3bad-d5eb-4806-8693-e63d379dc9fa",
   "metadata": {
    "tags": []
   },
   "outputs": [
    {
     "name": "stdout",
     "output_type": "stream",
     "text": [
      "Geography : ['France' 'Spain' 'Germany']\n",
      "Gender : [1 0]\n",
      "Age : [42 41 39 43 44 50 29 27 31 24 34 25 35 45 58 32 38 46 36 33 40 51 61 49\n",
      " 37 19 66 56 26 21 55 75 22 30 28 65 48 52 57 73 47 54 72 20 67 79 62 53\n",
      " 80 59 68 23 60 70 63 64 18 82 69 74 71 76 77 88 85 84 78 81 92 83]\n",
      "Tenure : [ 2  1  8  7  4  6  3 10  5  9  0]\n",
      "NumOfProducts : [1 3 2 4]\n",
      "HasCrCard : [1 0]\n",
      "IsActiveMember : [1 0]\n",
      "Exited : [1 0]\n"
     ]
    }
   ],
   "source": [
    "column = ['Geography', 'Gender', 'Age', 'Tenure',\n",
    "       'NumOfProducts', 'HasCrCard', 'IsActiveMember',\n",
    "       'Exited']\n",
    "for col in column:\n",
    "    print(f'{col} : {df[col].unique()}')"
   ]
  },
  {
   "cell_type": "code",
   "execution_count": 11,
   "id": "79a78450-ff76-4a2f-b3e9-4b6a071464a2",
   "metadata": {
    "tags": []
   },
   "outputs": [],
   "source": [
    "df1 = pd.get_dummies(df,columns = ['Geography','NumOfProducts'])"
   ]
  },
  {
   "cell_type": "code",
   "execution_count": 12,
   "id": "6685f025-431c-409e-9ded-77bc37a84f60",
   "metadata": {
    "tags": []
   },
   "outputs": [
    {
     "data": {
      "text/html": [
       "<div>\n",
       "<style scoped>\n",
       "    .dataframe tbody tr th:only-of-type {\n",
       "        vertical-align: middle;\n",
       "    }\n",
       "\n",
       "    .dataframe tbody tr th {\n",
       "        vertical-align: top;\n",
       "    }\n",
       "\n",
       "    .dataframe thead th {\n",
       "        text-align: right;\n",
       "    }\n",
       "</style>\n",
       "<table border=\"1\" class=\"dataframe\">\n",
       "  <thead>\n",
       "    <tr style=\"text-align: right;\">\n",
       "      <th></th>\n",
       "      <th>CreditScore</th>\n",
       "      <th>Gender</th>\n",
       "      <th>Age</th>\n",
       "      <th>Tenure</th>\n",
       "      <th>Balance</th>\n",
       "      <th>HasCrCard</th>\n",
       "      <th>IsActiveMember</th>\n",
       "      <th>EstimatedSalary</th>\n",
       "      <th>Exited</th>\n",
       "      <th>Geography_France</th>\n",
       "      <th>Geography_Germany</th>\n",
       "      <th>Geography_Spain</th>\n",
       "      <th>NumOfProducts_1</th>\n",
       "      <th>NumOfProducts_2</th>\n",
       "      <th>NumOfProducts_3</th>\n",
       "      <th>NumOfProducts_4</th>\n",
       "    </tr>\n",
       "  </thead>\n",
       "  <tbody>\n",
       "    <tr>\n",
       "      <th>0</th>\n",
       "      <td>619</td>\n",
       "      <td>1</td>\n",
       "      <td>42</td>\n",
       "      <td>2</td>\n",
       "      <td>0.00</td>\n",
       "      <td>1</td>\n",
       "      <td>1</td>\n",
       "      <td>101348.88</td>\n",
       "      <td>1</td>\n",
       "      <td>1</td>\n",
       "      <td>0</td>\n",
       "      <td>0</td>\n",
       "      <td>1</td>\n",
       "      <td>0</td>\n",
       "      <td>0</td>\n",
       "      <td>0</td>\n",
       "    </tr>\n",
       "    <tr>\n",
       "      <th>1</th>\n",
       "      <td>608</td>\n",
       "      <td>1</td>\n",
       "      <td>41</td>\n",
       "      <td>1</td>\n",
       "      <td>83807.86</td>\n",
       "      <td>0</td>\n",
       "      <td>1</td>\n",
       "      <td>112542.58</td>\n",
       "      <td>0</td>\n",
       "      <td>0</td>\n",
       "      <td>0</td>\n",
       "      <td>1</td>\n",
       "      <td>1</td>\n",
       "      <td>0</td>\n",
       "      <td>0</td>\n",
       "      <td>0</td>\n",
       "    </tr>\n",
       "    <tr>\n",
       "      <th>2</th>\n",
       "      <td>502</td>\n",
       "      <td>1</td>\n",
       "      <td>42</td>\n",
       "      <td>8</td>\n",
       "      <td>159660.80</td>\n",
       "      <td>1</td>\n",
       "      <td>0</td>\n",
       "      <td>113931.57</td>\n",
       "      <td>1</td>\n",
       "      <td>1</td>\n",
       "      <td>0</td>\n",
       "      <td>0</td>\n",
       "      <td>0</td>\n",
       "      <td>0</td>\n",
       "      <td>1</td>\n",
       "      <td>0</td>\n",
       "    </tr>\n",
       "    <tr>\n",
       "      <th>3</th>\n",
       "      <td>699</td>\n",
       "      <td>1</td>\n",
       "      <td>39</td>\n",
       "      <td>1</td>\n",
       "      <td>0.00</td>\n",
       "      <td>0</td>\n",
       "      <td>0</td>\n",
       "      <td>93826.63</td>\n",
       "      <td>0</td>\n",
       "      <td>1</td>\n",
       "      <td>0</td>\n",
       "      <td>0</td>\n",
       "      <td>0</td>\n",
       "      <td>1</td>\n",
       "      <td>0</td>\n",
       "      <td>0</td>\n",
       "    </tr>\n",
       "    <tr>\n",
       "      <th>4</th>\n",
       "      <td>850</td>\n",
       "      <td>1</td>\n",
       "      <td>43</td>\n",
       "      <td>2</td>\n",
       "      <td>125510.82</td>\n",
       "      <td>1</td>\n",
       "      <td>1</td>\n",
       "      <td>79084.10</td>\n",
       "      <td>0</td>\n",
       "      <td>0</td>\n",
       "      <td>0</td>\n",
       "      <td>1</td>\n",
       "      <td>1</td>\n",
       "      <td>0</td>\n",
       "      <td>0</td>\n",
       "      <td>0</td>\n",
       "    </tr>\n",
       "    <tr>\n",
       "      <th>...</th>\n",
       "      <td>...</td>\n",
       "      <td>...</td>\n",
       "      <td>...</td>\n",
       "      <td>...</td>\n",
       "      <td>...</td>\n",
       "      <td>...</td>\n",
       "      <td>...</td>\n",
       "      <td>...</td>\n",
       "      <td>...</td>\n",
       "      <td>...</td>\n",
       "      <td>...</td>\n",
       "      <td>...</td>\n",
       "      <td>...</td>\n",
       "      <td>...</td>\n",
       "      <td>...</td>\n",
       "      <td>...</td>\n",
       "    </tr>\n",
       "    <tr>\n",
       "      <th>9995</th>\n",
       "      <td>771</td>\n",
       "      <td>0</td>\n",
       "      <td>39</td>\n",
       "      <td>5</td>\n",
       "      <td>0.00</td>\n",
       "      <td>1</td>\n",
       "      <td>0</td>\n",
       "      <td>96270.64</td>\n",
       "      <td>0</td>\n",
       "      <td>1</td>\n",
       "      <td>0</td>\n",
       "      <td>0</td>\n",
       "      <td>0</td>\n",
       "      <td>1</td>\n",
       "      <td>0</td>\n",
       "      <td>0</td>\n",
       "    </tr>\n",
       "    <tr>\n",
       "      <th>9996</th>\n",
       "      <td>516</td>\n",
       "      <td>0</td>\n",
       "      <td>35</td>\n",
       "      <td>10</td>\n",
       "      <td>57369.61</td>\n",
       "      <td>1</td>\n",
       "      <td>1</td>\n",
       "      <td>101699.77</td>\n",
       "      <td>0</td>\n",
       "      <td>1</td>\n",
       "      <td>0</td>\n",
       "      <td>0</td>\n",
       "      <td>1</td>\n",
       "      <td>0</td>\n",
       "      <td>0</td>\n",
       "      <td>0</td>\n",
       "    </tr>\n",
       "    <tr>\n",
       "      <th>9997</th>\n",
       "      <td>709</td>\n",
       "      <td>1</td>\n",
       "      <td>36</td>\n",
       "      <td>7</td>\n",
       "      <td>0.00</td>\n",
       "      <td>0</td>\n",
       "      <td>1</td>\n",
       "      <td>42085.58</td>\n",
       "      <td>1</td>\n",
       "      <td>1</td>\n",
       "      <td>0</td>\n",
       "      <td>0</td>\n",
       "      <td>1</td>\n",
       "      <td>0</td>\n",
       "      <td>0</td>\n",
       "      <td>0</td>\n",
       "    </tr>\n",
       "    <tr>\n",
       "      <th>9998</th>\n",
       "      <td>772</td>\n",
       "      <td>0</td>\n",
       "      <td>42</td>\n",
       "      <td>3</td>\n",
       "      <td>75075.31</td>\n",
       "      <td>1</td>\n",
       "      <td>0</td>\n",
       "      <td>92888.52</td>\n",
       "      <td>1</td>\n",
       "      <td>0</td>\n",
       "      <td>1</td>\n",
       "      <td>0</td>\n",
       "      <td>0</td>\n",
       "      <td>1</td>\n",
       "      <td>0</td>\n",
       "      <td>0</td>\n",
       "    </tr>\n",
       "    <tr>\n",
       "      <th>9999</th>\n",
       "      <td>792</td>\n",
       "      <td>1</td>\n",
       "      <td>28</td>\n",
       "      <td>4</td>\n",
       "      <td>130142.79</td>\n",
       "      <td>1</td>\n",
       "      <td>0</td>\n",
       "      <td>38190.78</td>\n",
       "      <td>0</td>\n",
       "      <td>1</td>\n",
       "      <td>0</td>\n",
       "      <td>0</td>\n",
       "      <td>1</td>\n",
       "      <td>0</td>\n",
       "      <td>0</td>\n",
       "      <td>0</td>\n",
       "    </tr>\n",
       "  </tbody>\n",
       "</table>\n",
       "<p>10000 rows × 16 columns</p>\n",
       "</div>"
      ],
      "text/plain": [
       "      CreditScore  Gender  Age  Tenure    Balance  HasCrCard  IsActiveMember  \\\n",
       "0             619       1   42       2       0.00          1               1   \n",
       "1             608       1   41       1   83807.86          0               1   \n",
       "2             502       1   42       8  159660.80          1               0   \n",
       "3             699       1   39       1       0.00          0               0   \n",
       "4             850       1   43       2  125510.82          1               1   \n",
       "...           ...     ...  ...     ...        ...        ...             ...   \n",
       "9995          771       0   39       5       0.00          1               0   \n",
       "9996          516       0   35      10   57369.61          1               1   \n",
       "9997          709       1   36       7       0.00          0               1   \n",
       "9998          772       0   42       3   75075.31          1               0   \n",
       "9999          792       1   28       4  130142.79          1               0   \n",
       "\n",
       "      EstimatedSalary  Exited  Geography_France  Geography_Germany  \\\n",
       "0           101348.88       1                 1                  0   \n",
       "1           112542.58       0                 0                  0   \n",
       "2           113931.57       1                 1                  0   \n",
       "3            93826.63       0                 1                  0   \n",
       "4            79084.10       0                 0                  0   \n",
       "...               ...     ...               ...                ...   \n",
       "9995         96270.64       0                 1                  0   \n",
       "9996        101699.77       0                 1                  0   \n",
       "9997         42085.58       1                 1                  0   \n",
       "9998         92888.52       1                 0                  1   \n",
       "9999         38190.78       0                 1                  0   \n",
       "\n",
       "      Geography_Spain  NumOfProducts_1  NumOfProducts_2  NumOfProducts_3  \\\n",
       "0                   0                1                0                0   \n",
       "1                   1                1                0                0   \n",
       "2                   0                0                0                1   \n",
       "3                   0                0                1                0   \n",
       "4                   1                1                0                0   \n",
       "...               ...              ...              ...              ...   \n",
       "9995                0                0                1                0   \n",
       "9996                0                1                0                0   \n",
       "9997                0                1                0                0   \n",
       "9998                0                0                1                0   \n",
       "9999                0                1                0                0   \n",
       "\n",
       "      NumOfProducts_4  \n",
       "0                   0  \n",
       "1                   0  \n",
       "2                   0  \n",
       "3                   0  \n",
       "4                   0  \n",
       "...               ...  \n",
       "9995                0  \n",
       "9996                0  \n",
       "9997                0  \n",
       "9998                0  \n",
       "9999                0  \n",
       "\n",
       "[10000 rows x 16 columns]"
      ]
     },
     "execution_count": 12,
     "metadata": {},
     "output_type": "execute_result"
    }
   ],
   "source": [
    "df1"
   ]
  },
  {
   "cell_type": "code",
   "execution_count": 13,
   "id": "8b9030cb-fac9-4f88-bd10-e8a2e218bc2d",
   "metadata": {
    "tags": []
   },
   "outputs": [],
   "source": [
    "from sklearn.preprocessing import MinMaxScaler\n",
    "scaler = MinMaxScaler()"
   ]
  },
  {
   "cell_type": "code",
   "execution_count": 14,
   "id": "e0601a27-c6c5-4480-b99c-c2a1b3e7c59a",
   "metadata": {
    "tags": []
   },
   "outputs": [],
   "source": [
    "col_to_scale = ['CreditScore', 'Age', 'Tenure', 'Balance','EstimatedSalary']\n",
    "df1[col_to_scale] = scaler.fit_transform(df1[col_to_scale])"
   ]
  },
  {
   "cell_type": "code",
   "execution_count": 15,
   "id": "2c310f24-dd09-4980-8d79-7e1b9916f9e6",
   "metadata": {
    "tags": []
   },
   "outputs": [
    {
     "data": {
      "text/html": [
       "<div>\n",
       "<style scoped>\n",
       "    .dataframe tbody tr th:only-of-type {\n",
       "        vertical-align: middle;\n",
       "    }\n",
       "\n",
       "    .dataframe tbody tr th {\n",
       "        vertical-align: top;\n",
       "    }\n",
       "\n",
       "    .dataframe thead th {\n",
       "        text-align: right;\n",
       "    }\n",
       "</style>\n",
       "<table border=\"1\" class=\"dataframe\">\n",
       "  <thead>\n",
       "    <tr style=\"text-align: right;\">\n",
       "      <th></th>\n",
       "      <th>CreditScore</th>\n",
       "      <th>Age</th>\n",
       "      <th>Tenure</th>\n",
       "      <th>Balance</th>\n",
       "      <th>EstimatedSalary</th>\n",
       "    </tr>\n",
       "  </thead>\n",
       "  <tbody>\n",
       "    <tr>\n",
       "      <th>0</th>\n",
       "      <td>0.538</td>\n",
       "      <td>0.324324</td>\n",
       "      <td>0.2</td>\n",
       "      <td>0.000000</td>\n",
       "      <td>0.506735</td>\n",
       "    </tr>\n",
       "    <tr>\n",
       "      <th>1</th>\n",
       "      <td>0.516</td>\n",
       "      <td>0.310811</td>\n",
       "      <td>0.1</td>\n",
       "      <td>0.334031</td>\n",
       "      <td>0.562709</td>\n",
       "    </tr>\n",
       "    <tr>\n",
       "      <th>2</th>\n",
       "      <td>0.304</td>\n",
       "      <td>0.324324</td>\n",
       "      <td>0.8</td>\n",
       "      <td>0.636357</td>\n",
       "      <td>0.569654</td>\n",
       "    </tr>\n",
       "    <tr>\n",
       "      <th>3</th>\n",
       "      <td>0.698</td>\n",
       "      <td>0.283784</td>\n",
       "      <td>0.1</td>\n",
       "      <td>0.000000</td>\n",
       "      <td>0.469120</td>\n",
       "    </tr>\n",
       "    <tr>\n",
       "      <th>4</th>\n",
       "      <td>1.000</td>\n",
       "      <td>0.337838</td>\n",
       "      <td>0.2</td>\n",
       "      <td>0.500246</td>\n",
       "      <td>0.395400</td>\n",
       "    </tr>\n",
       "    <tr>\n",
       "      <th>...</th>\n",
       "      <td>...</td>\n",
       "      <td>...</td>\n",
       "      <td>...</td>\n",
       "      <td>...</td>\n",
       "      <td>...</td>\n",
       "    </tr>\n",
       "    <tr>\n",
       "      <th>9995</th>\n",
       "      <td>0.842</td>\n",
       "      <td>0.283784</td>\n",
       "      <td>0.5</td>\n",
       "      <td>0.000000</td>\n",
       "      <td>0.481341</td>\n",
       "    </tr>\n",
       "    <tr>\n",
       "      <th>9996</th>\n",
       "      <td>0.332</td>\n",
       "      <td>0.229730</td>\n",
       "      <td>1.0</td>\n",
       "      <td>0.228657</td>\n",
       "      <td>0.508490</td>\n",
       "    </tr>\n",
       "    <tr>\n",
       "      <th>9997</th>\n",
       "      <td>0.718</td>\n",
       "      <td>0.243243</td>\n",
       "      <td>0.7</td>\n",
       "      <td>0.000000</td>\n",
       "      <td>0.210390</td>\n",
       "    </tr>\n",
       "    <tr>\n",
       "      <th>9998</th>\n",
       "      <td>0.844</td>\n",
       "      <td>0.324324</td>\n",
       "      <td>0.3</td>\n",
       "      <td>0.299226</td>\n",
       "      <td>0.464429</td>\n",
       "    </tr>\n",
       "    <tr>\n",
       "      <th>9999</th>\n",
       "      <td>0.884</td>\n",
       "      <td>0.135135</td>\n",
       "      <td>0.4</td>\n",
       "      <td>0.518708</td>\n",
       "      <td>0.190914</td>\n",
       "    </tr>\n",
       "  </tbody>\n",
       "</table>\n",
       "<p>10000 rows × 5 columns</p>\n",
       "</div>"
      ],
      "text/plain": [
       "      CreditScore       Age  Tenure   Balance  EstimatedSalary\n",
       "0           0.538  0.324324     0.2  0.000000         0.506735\n",
       "1           0.516  0.310811     0.1  0.334031         0.562709\n",
       "2           0.304  0.324324     0.8  0.636357         0.569654\n",
       "3           0.698  0.283784     0.1  0.000000         0.469120\n",
       "4           1.000  0.337838     0.2  0.500246         0.395400\n",
       "...           ...       ...     ...       ...              ...\n",
       "9995        0.842  0.283784     0.5  0.000000         0.481341\n",
       "9996        0.332  0.229730     1.0  0.228657         0.508490\n",
       "9997        0.718  0.243243     0.7  0.000000         0.210390\n",
       "9998        0.844  0.324324     0.3  0.299226         0.464429\n",
       "9999        0.884  0.135135     0.4  0.518708         0.190914\n",
       "\n",
       "[10000 rows x 5 columns]"
      ]
     },
     "execution_count": 15,
     "metadata": {},
     "output_type": "execute_result"
    }
   ],
   "source": [
    "df1[col_to_scale] "
   ]
  },
  {
   "cell_type": "code",
   "execution_count": 16,
   "id": "2035a533-caf5-40a1-9372-4fbb6b47c8bc",
   "metadata": {
    "tags": []
   },
   "outputs": [
    {
     "data": {
      "text/plain": [
       "CreditScore          float64\n",
       "Gender                 int64\n",
       "Age                  float64\n",
       "Tenure               float64\n",
       "Balance              float64\n",
       "HasCrCard              int64\n",
       "IsActiveMember         int64\n",
       "EstimatedSalary      float64\n",
       "Exited                 int64\n",
       "Geography_France       uint8\n",
       "Geography_Germany      uint8\n",
       "Geography_Spain        uint8\n",
       "NumOfProducts_1        uint8\n",
       "NumOfProducts_2        uint8\n",
       "NumOfProducts_3        uint8\n",
       "NumOfProducts_4        uint8\n",
       "dtype: object"
      ]
     },
     "execution_count": 16,
     "metadata": {},
     "output_type": "execute_result"
    }
   ],
   "source": [
    "df1.dtypes"
   ]
  },
  {
   "cell_type": "code",
   "execution_count": 17,
   "id": "dd4621d7-9952-4e86-b316-327847e7412c",
   "metadata": {
    "tags": []
   },
   "outputs": [
    {
     "data": {
      "text/html": [
       "<div>\n",
       "<style scoped>\n",
       "    .dataframe tbody tr th:only-of-type {\n",
       "        vertical-align: middle;\n",
       "    }\n",
       "\n",
       "    .dataframe tbody tr th {\n",
       "        vertical-align: top;\n",
       "    }\n",
       "\n",
       "    .dataframe thead th {\n",
       "        text-align: right;\n",
       "    }\n",
       "</style>\n",
       "<table border=\"1\" class=\"dataframe\">\n",
       "  <thead>\n",
       "    <tr style=\"text-align: right;\">\n",
       "      <th></th>\n",
       "      <th>CreditScore</th>\n",
       "      <th>Gender</th>\n",
       "      <th>Age</th>\n",
       "      <th>Tenure</th>\n",
       "      <th>Balance</th>\n",
       "      <th>HasCrCard</th>\n",
       "      <th>IsActiveMember</th>\n",
       "      <th>EstimatedSalary</th>\n",
       "      <th>Exited</th>\n",
       "      <th>Geography_France</th>\n",
       "      <th>Geography_Germany</th>\n",
       "      <th>Geography_Spain</th>\n",
       "      <th>NumOfProducts_1</th>\n",
       "      <th>NumOfProducts_2</th>\n",
       "      <th>NumOfProducts_3</th>\n",
       "      <th>NumOfProducts_4</th>\n",
       "    </tr>\n",
       "  </thead>\n",
       "  <tbody>\n",
       "    <tr>\n",
       "      <th>0</th>\n",
       "      <td>0.538</td>\n",
       "      <td>1</td>\n",
       "      <td>0.324324</td>\n",
       "      <td>0.2</td>\n",
       "      <td>0.000000</td>\n",
       "      <td>1</td>\n",
       "      <td>1</td>\n",
       "      <td>0.506735</td>\n",
       "      <td>1</td>\n",
       "      <td>1</td>\n",
       "      <td>0</td>\n",
       "      <td>0</td>\n",
       "      <td>1</td>\n",
       "      <td>0</td>\n",
       "      <td>0</td>\n",
       "      <td>0</td>\n",
       "    </tr>\n",
       "    <tr>\n",
       "      <th>1</th>\n",
       "      <td>0.516</td>\n",
       "      <td>1</td>\n",
       "      <td>0.310811</td>\n",
       "      <td>0.1</td>\n",
       "      <td>0.334031</td>\n",
       "      <td>0</td>\n",
       "      <td>1</td>\n",
       "      <td>0.562709</td>\n",
       "      <td>0</td>\n",
       "      <td>0</td>\n",
       "      <td>0</td>\n",
       "      <td>1</td>\n",
       "      <td>1</td>\n",
       "      <td>0</td>\n",
       "      <td>0</td>\n",
       "      <td>0</td>\n",
       "    </tr>\n",
       "    <tr>\n",
       "      <th>2</th>\n",
       "      <td>0.304</td>\n",
       "      <td>1</td>\n",
       "      <td>0.324324</td>\n",
       "      <td>0.8</td>\n",
       "      <td>0.636357</td>\n",
       "      <td>1</td>\n",
       "      <td>0</td>\n",
       "      <td>0.569654</td>\n",
       "      <td>1</td>\n",
       "      <td>1</td>\n",
       "      <td>0</td>\n",
       "      <td>0</td>\n",
       "      <td>0</td>\n",
       "      <td>0</td>\n",
       "      <td>1</td>\n",
       "      <td>0</td>\n",
       "    </tr>\n",
       "    <tr>\n",
       "      <th>3</th>\n",
       "      <td>0.698</td>\n",
       "      <td>1</td>\n",
       "      <td>0.283784</td>\n",
       "      <td>0.1</td>\n",
       "      <td>0.000000</td>\n",
       "      <td>0</td>\n",
       "      <td>0</td>\n",
       "      <td>0.469120</td>\n",
       "      <td>0</td>\n",
       "      <td>1</td>\n",
       "      <td>0</td>\n",
       "      <td>0</td>\n",
       "      <td>0</td>\n",
       "      <td>1</td>\n",
       "      <td>0</td>\n",
       "      <td>0</td>\n",
       "    </tr>\n",
       "    <tr>\n",
       "      <th>4</th>\n",
       "      <td>1.000</td>\n",
       "      <td>1</td>\n",
       "      <td>0.337838</td>\n",
       "      <td>0.2</td>\n",
       "      <td>0.500246</td>\n",
       "      <td>1</td>\n",
       "      <td>1</td>\n",
       "      <td>0.395400</td>\n",
       "      <td>0</td>\n",
       "      <td>0</td>\n",
       "      <td>0</td>\n",
       "      <td>1</td>\n",
       "      <td>1</td>\n",
       "      <td>0</td>\n",
       "      <td>0</td>\n",
       "      <td>0</td>\n",
       "    </tr>\n",
       "    <tr>\n",
       "      <th>...</th>\n",
       "      <td>...</td>\n",
       "      <td>...</td>\n",
       "      <td>...</td>\n",
       "      <td>...</td>\n",
       "      <td>...</td>\n",
       "      <td>...</td>\n",
       "      <td>...</td>\n",
       "      <td>...</td>\n",
       "      <td>...</td>\n",
       "      <td>...</td>\n",
       "      <td>...</td>\n",
       "      <td>...</td>\n",
       "      <td>...</td>\n",
       "      <td>...</td>\n",
       "      <td>...</td>\n",
       "      <td>...</td>\n",
       "    </tr>\n",
       "    <tr>\n",
       "      <th>9995</th>\n",
       "      <td>0.842</td>\n",
       "      <td>0</td>\n",
       "      <td>0.283784</td>\n",
       "      <td>0.5</td>\n",
       "      <td>0.000000</td>\n",
       "      <td>1</td>\n",
       "      <td>0</td>\n",
       "      <td>0.481341</td>\n",
       "      <td>0</td>\n",
       "      <td>1</td>\n",
       "      <td>0</td>\n",
       "      <td>0</td>\n",
       "      <td>0</td>\n",
       "      <td>1</td>\n",
       "      <td>0</td>\n",
       "      <td>0</td>\n",
       "    </tr>\n",
       "    <tr>\n",
       "      <th>9996</th>\n",
       "      <td>0.332</td>\n",
       "      <td>0</td>\n",
       "      <td>0.229730</td>\n",
       "      <td>1.0</td>\n",
       "      <td>0.228657</td>\n",
       "      <td>1</td>\n",
       "      <td>1</td>\n",
       "      <td>0.508490</td>\n",
       "      <td>0</td>\n",
       "      <td>1</td>\n",
       "      <td>0</td>\n",
       "      <td>0</td>\n",
       "      <td>1</td>\n",
       "      <td>0</td>\n",
       "      <td>0</td>\n",
       "      <td>0</td>\n",
       "    </tr>\n",
       "    <tr>\n",
       "      <th>9997</th>\n",
       "      <td>0.718</td>\n",
       "      <td>1</td>\n",
       "      <td>0.243243</td>\n",
       "      <td>0.7</td>\n",
       "      <td>0.000000</td>\n",
       "      <td>0</td>\n",
       "      <td>1</td>\n",
       "      <td>0.210390</td>\n",
       "      <td>1</td>\n",
       "      <td>1</td>\n",
       "      <td>0</td>\n",
       "      <td>0</td>\n",
       "      <td>1</td>\n",
       "      <td>0</td>\n",
       "      <td>0</td>\n",
       "      <td>0</td>\n",
       "    </tr>\n",
       "    <tr>\n",
       "      <th>9998</th>\n",
       "      <td>0.844</td>\n",
       "      <td>0</td>\n",
       "      <td>0.324324</td>\n",
       "      <td>0.3</td>\n",
       "      <td>0.299226</td>\n",
       "      <td>1</td>\n",
       "      <td>0</td>\n",
       "      <td>0.464429</td>\n",
       "      <td>1</td>\n",
       "      <td>0</td>\n",
       "      <td>1</td>\n",
       "      <td>0</td>\n",
       "      <td>0</td>\n",
       "      <td>1</td>\n",
       "      <td>0</td>\n",
       "      <td>0</td>\n",
       "    </tr>\n",
       "    <tr>\n",
       "      <th>9999</th>\n",
       "      <td>0.884</td>\n",
       "      <td>1</td>\n",
       "      <td>0.135135</td>\n",
       "      <td>0.4</td>\n",
       "      <td>0.518708</td>\n",
       "      <td>1</td>\n",
       "      <td>0</td>\n",
       "      <td>0.190914</td>\n",
       "      <td>0</td>\n",
       "      <td>1</td>\n",
       "      <td>0</td>\n",
       "      <td>0</td>\n",
       "      <td>1</td>\n",
       "      <td>0</td>\n",
       "      <td>0</td>\n",
       "      <td>0</td>\n",
       "    </tr>\n",
       "  </tbody>\n",
       "</table>\n",
       "<p>10000 rows × 16 columns</p>\n",
       "</div>"
      ],
      "text/plain": [
       "      CreditScore  Gender       Age  Tenure   Balance  HasCrCard  \\\n",
       "0           0.538       1  0.324324     0.2  0.000000          1   \n",
       "1           0.516       1  0.310811     0.1  0.334031          0   \n",
       "2           0.304       1  0.324324     0.8  0.636357          1   \n",
       "3           0.698       1  0.283784     0.1  0.000000          0   \n",
       "4           1.000       1  0.337838     0.2  0.500246          1   \n",
       "...           ...     ...       ...     ...       ...        ...   \n",
       "9995        0.842       0  0.283784     0.5  0.000000          1   \n",
       "9996        0.332       0  0.229730     1.0  0.228657          1   \n",
       "9997        0.718       1  0.243243     0.7  0.000000          0   \n",
       "9998        0.844       0  0.324324     0.3  0.299226          1   \n",
       "9999        0.884       1  0.135135     0.4  0.518708          1   \n",
       "\n",
       "      IsActiveMember  EstimatedSalary  Exited  Geography_France  \\\n",
       "0                  1         0.506735       1                 1   \n",
       "1                  1         0.562709       0                 0   \n",
       "2                  0         0.569654       1                 1   \n",
       "3                  0         0.469120       0                 1   \n",
       "4                  1         0.395400       0                 0   \n",
       "...              ...              ...     ...               ...   \n",
       "9995               0         0.481341       0                 1   \n",
       "9996               1         0.508490       0                 1   \n",
       "9997               1         0.210390       1                 1   \n",
       "9998               0         0.464429       1                 0   \n",
       "9999               0         0.190914       0                 1   \n",
       "\n",
       "      Geography_Germany  Geography_Spain  NumOfProducts_1  NumOfProducts_2  \\\n",
       "0                     0                0                1                0   \n",
       "1                     0                1                1                0   \n",
       "2                     0                0                0                0   \n",
       "3                     0                0                0                1   \n",
       "4                     0                1                1                0   \n",
       "...                 ...              ...              ...              ...   \n",
       "9995                  0                0                0                1   \n",
       "9996                  0                0                1                0   \n",
       "9997                  0                0                1                0   \n",
       "9998                  1                0                0                1   \n",
       "9999                  0                0                1                0   \n",
       "\n",
       "      NumOfProducts_3  NumOfProducts_4  \n",
       "0                   0                0  \n",
       "1                   0                0  \n",
       "2                   1                0  \n",
       "3                   0                0  \n",
       "4                   0                0  \n",
       "...               ...              ...  \n",
       "9995                0                0  \n",
       "9996                0                0  \n",
       "9997                0                0  \n",
       "9998                0                0  \n",
       "9999                0                0  \n",
       "\n",
       "[10000 rows x 16 columns]"
      ]
     },
     "execution_count": 17,
     "metadata": {},
     "output_type": "execute_result"
    }
   ],
   "source": [
    "df1"
   ]
  },
  {
   "cell_type": "code",
   "execution_count": 18,
   "id": "402ec2c7-5b3c-4e06-8b60-065afa9b8068",
   "metadata": {
    "tags": []
   },
   "outputs": [],
   "source": [
    "X = df1.drop(['Exited'], axis = 1)\n",
    "y = df1.Exited"
   ]
  },
  {
   "cell_type": "code",
   "execution_count": 19,
   "id": "566302d9-c127-45d8-abc5-a110966caedd",
   "metadata": {
    "tags": []
   },
   "outputs": [],
   "source": [
    "X_train,X_test,y_train,y_test = train_test_split(X,y,test_size=0.2,random_state=5)"
   ]
  },
  {
   "cell_type": "code",
   "execution_count": null,
   "id": "046f5fc8-5a09-4fa7-8509-5d3ae1a457f1",
   "metadata": {
    "tags": []
   },
   "outputs": [],
   "source": [
    "model = keras.Sequential([\n",
    "    keras.layers.Dense(10,input_shape = (15,), activation = 'relu'),\n",
    "    keras.layers.Dense(1,activation = 'sigmoid')\n",
    "])\n",
    "model.compile(optimizer = 'adam',\n",
    "             loss = 'binary_crossentropy',\n",
    "             metrics = ['accuracy']\n",
    "             )\n",
    "model.fit(X_train,y_train,epochs=50)"
   ]
  },
  {
   "cell_type": "code",
   "execution_count": 21,
   "id": "e3ec53ed-14fa-490c-8b6d-8a59bd1c5814",
   "metadata": {
    "tags": []
   },
   "outputs": [
    {
     "name": "stdout",
     "output_type": "stream",
     "text": [
      "63/63 [==============================] - 1s 3ms/step - loss: 0.3767 - accuracy: 0.8410\n"
     ]
    },
    {
     "data": {
      "text/plain": [
       "[0.3766680359840393, 0.8410000205039978]"
      ]
     },
     "execution_count": 21,
     "metadata": {},
     "output_type": "execute_result"
    }
   ],
   "source": [
    "model.evaluate(X_test,y_test)"
   ]
  },
  {
   "cell_type": "code",
   "execution_count": 22,
   "id": "cb9bb466-6545-4920-8ad6-6ff768d1ae9c",
   "metadata": {
    "tags": []
   },
   "outputs": [
    {
     "name": "stdout",
     "output_type": "stream",
     "text": [
      "250/250 [==============================] - 1s 3ms/step\n"
     ]
    },
    {
     "data": {
      "text/plain": [
       "array([[0.08289053],\n",
       "       [0.03738322],\n",
       "       [0.7124327 ],\n",
       "       ...,\n",
       "       [0.24607092],\n",
       "       [0.07136323],\n",
       "       [0.8263931 ]], dtype=float32)"
      ]
     },
     "execution_count": 22,
     "metadata": {},
     "output_type": "execute_result"
    }
   ],
   "source": [
    "model.predict(X_train)"
   ]
  },
  {
   "cell_type": "code",
   "execution_count": 23,
   "id": "179ce6e3-3b83-4aef-9e43-e28cffaa808b",
   "metadata": {
    "tags": []
   },
   "outputs": [
    {
     "name": "stdout",
     "output_type": "stream",
     "text": [
      "63/63 [==============================] - 0s 3ms/step\n"
     ]
    },
    {
     "data": {
      "text/plain": [
       "[0, 0, 0, 0, 0, 0, 0, 0, 0, 1]"
      ]
     },
     "execution_count": 23,
     "metadata": {},
     "output_type": "execute_result"
    }
   ],
   "source": [
    "y_pred = []\n",
    "for i in model.predict(X_test):\n",
    "    if i < 0.5:\n",
    "        y_pred.append(0)\n",
    "    else:\n",
    "        y_pred.append(1)\n",
    "y_pred[:10]        "
   ]
  },
  {
   "cell_type": "code",
   "execution_count": 24,
   "id": "87ef34fb-81d5-4796-9715-dc62398525cf",
   "metadata": {
    "tags": []
   },
   "outputs": [
    {
     "data": {
      "text/plain": [
       "7054    0\n",
       "442     0\n",
       "3954    0\n",
       "2288    0\n",
       "3196    0\n",
       "6178    0\n",
       "8351    0\n",
       "5658    1\n",
       "2065    0\n",
       "413     1\n",
       "Name: Exited, dtype: int64"
      ]
     },
     "execution_count": 24,
     "metadata": {},
     "output_type": "execute_result"
    }
   ],
   "source": [
    "y_test[:10]"
   ]
  },
  {
   "cell_type": "code",
   "execution_count": 25,
   "id": "e5a24c01-4f5d-47d4-93ac-a41721959a62",
   "metadata": {
    "tags": []
   },
   "outputs": [
    {
     "name": "stdout",
     "output_type": "stream",
     "text": [
      "              precision    recall  f1-score   support\n",
      "\n",
      "           0       0.87      0.95      0.90      1595\n",
      "           1       0.67      0.43      0.52       405\n",
      "\n",
      "    accuracy                           0.84      2000\n",
      "   macro avg       0.77      0.69      0.71      2000\n",
      "weighted avg       0.83      0.84      0.83      2000\n",
      "\n"
     ]
    }
   ],
   "source": [
    "from sklearn.metrics import classification_report, confusion_matrix\n",
    "print(classification_report(y_test, y_pred))"
   ]
  },
  {
   "cell_type": "code",
   "execution_count": 26,
   "id": "27618db4-f971-482f-aadc-94a53f7b0766",
   "metadata": {
    "tags": []
   },
   "outputs": [],
   "source": [
    "import seaborn as sn"
   ]
  },
  {
   "cell_type": "code",
   "execution_count": 27,
   "id": "f7b8b0d5-3bc8-4852-9af0-00f9a7b5cb19",
   "metadata": {
    "tags": []
   },
   "outputs": [],
   "source": [
    "cm = tf.math.confusion_matrix(y_test,y_pred)"
   ]
  },
  {
   "cell_type": "code",
   "execution_count": 28,
   "id": "a3ea9dc7-d990-478a-b27b-c6b3fa37118a",
   "metadata": {
    "tags": []
   },
   "outputs": [
    {
     "data": {
      "text/plain": [
       "<Axes: >"
      ]
     },
     "execution_count": 28,
     "metadata": {},
     "output_type": "execute_result"
    },
    {
     "data": {
      "image/png": "[encoded data removed]",
      "text/plain": [
       "<Figure size 640x480 with 2 Axes>"
      ]
     },
     "metadata": {},
     "output_type": "display_data"
    }
   ],
   "source": [
    "sn.heatmap(cm,annot = True, fmt = 'd')"
   ]
  },
  {
   "cell_type": "code",
   "execution_count": 29,
   "id": "2aa33442-114f-4533-a736-100ce4072375",
   "metadata": {
    "tags": []
   },
   "outputs": [
    {
     "data": {
      "text/plain": [
       "0.8648954211418881"
      ]
     },
     "execution_count": 29,
     "metadata": {},
     "output_type": "execute_result"
    }
   ],
   "source": [
    "1530/(1530+239)"
   ]
  },
  {
   "cell_type": "code",
   "execution_count": 30,
   "id": "3312c7db-bb9d-479b-9e8a-0b9b70c268e4",
   "metadata": {
    "tags": []
   },
   "outputs": [
    {
     "data": {
      "text/plain": [
       "0.9592476489028213"
      ]
     },
     "execution_count": 30,
     "metadata": {},
     "output_type": "execute_result"
    }
   ],
   "source": [
    "1530/(1530+65)"
   ]
  },
  {
   "cell_type": "code",
   "execution_count": 31,
   "id": "32d0e1c5-f4e2-4fea-aa8e-e998c3a87719",
   "metadata": {
    "tags": []
   },
   "outputs": [
    {
     "data": {
      "text/plain": [
       "0.7186147186147186"
      ]
     },
     "execution_count": 31,
     "metadata": {},
     "output_type": "execute_result"
    }
   ],
   "source": [
    "166/(166+65)"
   ]
  },
  {
   "cell_type": "code",
   "execution_count": 32,
   "id": "bfc95790-89bf-41fc-8641-b2ddedb7d479",
   "metadata": {
    "tags": []
   },
   "outputs": [
    {
     "data": {
      "text/plain": [
       "0.40987654320987654"
      ]
     },
     "execution_count": 32,
     "metadata": {},
     "output_type": "execute_result"
    }
   ],
   "source": [
    "166/(166+239)"
   ]
  },
  {
   "cell_type": "code",
   "execution_count": 33,
   "id": "103bc50a-1490-4a27-ac11-21c4d32053c2",
   "metadata": {
    "tags": []
   },
   "outputs": [
    {
     "data": {
      "text/plain": [
       "0.9027624309392265"
      ]
     },
     "execution_count": 33,
     "metadata": {},
     "output_type": "execute_result"
    }
   ],
   "source": [
    "2*((0.86*0.95)/(0.86+0.95))"
   ]
  },
  {
   "cell_type": "code",
   "execution_count": 35,
   "id": "b79a2e19-5bd8-4939-99d9-5020e3e1bf0b",
   "metadata": {
    "tags": []
   },
   "outputs": [],
   "source": [
    "class_0 , class_1 = df1.Exited.value_counts()"
   ]
  },
  {
   "cell_type": "code",
   "execution_count": 38,
   "id": "3f0b53ee-c7bc-4db9-8413-a6ec4a7a0f0a",
   "metadata": {},
   "outputs": [],
   "source": [
    "df_c0 = df1[df1.Exited == 0]\n",
    "df_c1 = df1[df1.Exited== 1]\n"
   ]
  },
  {
   "cell_type": "code",
   "execution_count": 47,
   "id": "449baddb-67e3-4738-b6d7-1b918afbaa24",
   "metadata": {
    "tags": []
   },
   "outputs": [],
   "source": [
    "def ANN(X,y,epoch):    \n",
    "    X_train,X_test,y_train,y_test = train_test_split(X,y,test_size=0.2,random_state=5,stratify=y)\n",
    "    model = keras.Sequential([\n",
    "        keras.layers.Dense(10,input_shape = (15,), activation = 'relu'),\n",
    "        keras.layers.Dense(1,activation = 'sigmoid')\n",
    "    ])\n",
    "    model.compile(optimizer = 'adam',\n",
    "                 loss = 'binary_crossentropy',\n",
    "                 metrics = ['accuracy']\n",
    "                 )\n",
    "    model.fit(X_train,y_train,epochs=epoch)\n",
    "    y_pred = []\n",
    "    for i in model.predict(X_test):\n",
    "        if i < 0.5:\n",
    "            y_pred.append(0)\n",
    "        else:\n",
    "            y_pred.append(1)\n",
    "    print(classification_report(y_test,y_pred))"
   ]
  },
  {
   "cell_type": "markdown",
   "id": "8ad0104b-4bea-4f93-b7cd-947244432cf9",
   "metadata": {
    "tags": []
   },
   "source": [
    "# under sampling"
   ]
  },
  {
   "cell_type": "code",
   "execution_count": 41,
   "id": "c5e98173-2cd3-4f4e-bb6a-2d791e51b5fa",
   "metadata": {
    "tags": []
   },
   "outputs": [],
   "source": [
    "df_0_under = df_c0.sample(class_1) "
   ]
  },
  {
   "cell_type": "code",
   "execution_count": 43,
   "id": "d291eeaf-f681-40f8-8ce0-d641dfdbb6bb",
   "metadata": {
    "tags": []
   },
   "outputs": [],
   "source": [
    "df_under = pd.concat([df_0_under,df_c1], axis = 0)"
   ]
  },
  {
   "cell_type": "code",
   "execution_count": 45,
   "id": "c9d4b119-8b8d-4b15-915e-7ff2dc21cfce",
   "metadata": {
    "tags": []
   },
   "outputs": [],
   "source": [
    "x_under = df_under.drop(['Exited'],axis = 1)\n",
    "y_under = df_under.Exited"
   ]
  },
  {
   "cell_type": "code",
   "execution_count": 48,
   "id": "743fc52d-f85a-48a5-b25e-b0052822dac8",
   "metadata": {
    "tags": []
   },
   "outputs": [
    {
     "name": "stdout",
     "output_type": "stream",
     "text": [
      "Epoch 1/50\n",
      "102/102 [==============================] - 2s 4ms/step - loss: 0.6921 - accuracy: 0.5640\n",
      "Epoch 2/50\n",
      "102/102 [==============================] - 0s 4ms/step - loss: 0.6476 - accuracy: 0.6266\n",
      "Epoch 3/50\n",
      "102/102 [==============================] - 0s 3ms/step - loss: 0.6082 - accuracy: 0.6843\n",
      "Epoch 4/50\n",
      "102/102 [==============================] - 0s 4ms/step - loss: 0.5712 - accuracy: 0.7208\n",
      "Epoch 5/50\n",
      "102/102 [==============================] - 0s 4ms/step - loss: 0.5510 - accuracy: 0.7272\n",
      "Epoch 6/50\n",
      "102/102 [==============================] - 0s 4ms/step - loss: 0.5398 - accuracy: 0.7300\n",
      "Epoch 7/50\n",
      "102/102 [==============================] - 0s 3ms/step - loss: 0.5322 - accuracy: 0.7343\n",
      "Epoch 8/50\n",
      "102/102 [==============================] - 0s 4ms/step - loss: 0.5256 - accuracy: 0.7389\n",
      "Epoch 9/50\n",
      "102/102 [==============================] - 0s 4ms/step - loss: 0.5213 - accuracy: 0.7407\n",
      "Epoch 10/50\n",
      "102/102 [==============================] - 0s 4ms/step - loss: 0.5186 - accuracy: 0.7426\n",
      "Epoch 11/50\n",
      "102/102 [==============================] - 0s 4ms/step - loss: 0.5139 - accuracy: 0.7447\n",
      "Epoch 12/50\n",
      "102/102 [==============================] - 0s 4ms/step - loss: 0.5103 - accuracy: 0.7447\n",
      "Epoch 13/50\n",
      "102/102 [==============================] - 0s 4ms/step - loss: 0.5068 - accuracy: 0.7490\n",
      "Epoch 14/50\n",
      "102/102 [==============================] - 0s 4ms/step - loss: 0.5047 - accuracy: 0.7465\n",
      "Epoch 15/50\n",
      "102/102 [==============================] - 0s 4ms/step - loss: 0.5037 - accuracy: 0.7487\n",
      "Epoch 16/50\n",
      "102/102 [==============================] - 0s 3ms/step - loss: 0.5020 - accuracy: 0.7505\n",
      "Epoch 17/50\n",
      "102/102 [==============================] - 0s 4ms/step - loss: 0.5010 - accuracy: 0.7493\n",
      "Epoch 18/50\n",
      "102/102 [==============================] - 0s 4ms/step - loss: 0.5003 - accuracy: 0.7536\n",
      "Epoch 19/50\n",
      "102/102 [==============================] - 0s 4ms/step - loss: 0.4991 - accuracy: 0.7558\n",
      "Epoch 20/50\n",
      "102/102 [==============================] - 0s 4ms/step - loss: 0.4984 - accuracy: 0.7573\n",
      "Epoch 21/50\n",
      "102/102 [==============================] - 0s 4ms/step - loss: 0.4980 - accuracy: 0.7561\n",
      "Epoch 22/50\n",
      "102/102 [==============================] - 0s 4ms/step - loss: 0.4976 - accuracy: 0.7591\n",
      "Epoch 23/50\n",
      "102/102 [==============================] - 0s 4ms/step - loss: 0.4968 - accuracy: 0.7548\n",
      "Epoch 24/50\n",
      "102/102 [==============================] - 0s 3ms/step - loss: 0.4964 - accuracy: 0.7573\n",
      "Epoch 25/50\n",
      "102/102 [==============================] - 0s 4ms/step - loss: 0.4966 - accuracy: 0.7548\n",
      "Epoch 26/50\n",
      "102/102 [==============================] - 0s 4ms/step - loss: 0.4956 - accuracy: 0.7588\n",
      "Epoch 27/50\n",
      "102/102 [==============================] - 0s 3ms/step - loss: 0.4958 - accuracy: 0.7579\n",
      "Epoch 28/50\n",
      "102/102 [==============================] - 0s 4ms/step - loss: 0.4953 - accuracy: 0.7588\n",
      "Epoch 29/50\n",
      "102/102 [==============================] - 0s 4ms/step - loss: 0.4954 - accuracy: 0.7604\n",
      "Epoch 30/50\n",
      "102/102 [==============================] - 0s 4ms/step - loss: 0.4944 - accuracy: 0.7582\n",
      "Epoch 31/50\n",
      "102/102 [==============================] - 0s 4ms/step - loss: 0.4947 - accuracy: 0.7576\n",
      "Epoch 32/50\n",
      "102/102 [==============================] - 0s 4ms/step - loss: 0.4943 - accuracy: 0.7594\n",
      "Epoch 33/50\n",
      "102/102 [==============================] - 0s 4ms/step - loss: 0.4949 - accuracy: 0.7576\n",
      "Epoch 34/50\n",
      "102/102 [==============================] - 0s 4ms/step - loss: 0.4943 - accuracy: 0.7607\n",
      "Epoch 35/50\n",
      "102/102 [==============================] - 0s 4ms/step - loss: 0.4943 - accuracy: 0.7561\n",
      "Epoch 36/50\n",
      "102/102 [==============================] - 0s 4ms/step - loss: 0.4946 - accuracy: 0.7600\n",
      "Epoch 37/50\n",
      "102/102 [==============================] - 0s 4ms/step - loss: 0.4941 - accuracy: 0.7597\n",
      "Epoch 38/50\n",
      "102/102 [==============================] - 0s 4ms/step - loss: 0.4942 - accuracy: 0.7613\n",
      "Epoch 39/50\n",
      "102/102 [==============================] - 0s 3ms/step - loss: 0.4932 - accuracy: 0.7604\n",
      "Epoch 40/50\n",
      "102/102 [==============================] - 0s 4ms/step - loss: 0.4929 - accuracy: 0.7585\n",
      "Epoch 41/50\n",
      "102/102 [==============================] - 0s 4ms/step - loss: 0.4919 - accuracy: 0.7604\n",
      "Epoch 42/50\n",
      "102/102 [==============================] - 0s 3ms/step - loss: 0.4914 - accuracy: 0.7643\n",
      "Epoch 43/50\n",
      "102/102 [==============================] - 0s 4ms/step - loss: 0.4922 - accuracy: 0.7604\n",
      "Epoch 44/50\n",
      "102/102 [==============================] - 0s 3ms/step - loss: 0.4921 - accuracy: 0.7600\n",
      "Epoch 45/50\n",
      "102/102 [==============================] - 0s 3ms/step - loss: 0.4912 - accuracy: 0.7610\n",
      "Epoch 46/50\n",
      "102/102 [==============================] - 0s 4ms/step - loss: 0.4906 - accuracy: 0.7607\n",
      "Epoch 47/50\n",
      "102/102 [==============================] - 0s 4ms/step - loss: 0.4908 - accuracy: 0.7622\n",
      "Epoch 48/50\n",
      "102/102 [==============================] - 0s 4ms/step - loss: 0.4904 - accuracy: 0.7619\n",
      "Epoch 49/50\n",
      "102/102 [==============================] - 0s 4ms/step - loss: 0.4913 - accuracy: 0.7597\n",
      "Epoch 50/50\n",
      "102/102 [==============================] - 0s 4ms/step - loss: 0.4903 - accuracy: 0.7628\n",
      "26/26 [==============================] - 0s 3ms/step\n",
      "              precision    recall  f1-score   support\n",
      "\n",
      "           0       0.74      0.77      0.75       407\n",
      "           1       0.76      0.73      0.74       408\n",
      "\n",
      "    accuracy                           0.75       815\n",
      "   macro avg       0.75      0.75      0.75       815\n",
      "weighted avg       0.75      0.75      0.75       815\n",
      "\n"
     ]
    }
   ],
   "source": [
    "ANN(x_under,y_under,50)"
   ]
  },
  {
   "cell_type": "markdown",
   "id": "b7f093e0-70ca-4b91-8bd3-eabc8780dd9c",
   "metadata": {},
   "source": [
    "# over sampling (duplication)"
   ]
  },
  {
   "cell_type": "code",
   "execution_count": 50,
   "id": "110fab87-18bd-4b64-89ab-869c9adf02c8",
   "metadata": {
    "tags": []
   },
   "outputs": [],
   "source": [
    "df_1_over = df_c1.sample(class_0, replace = True)"
   ]
  },
  {
   "cell_type": "code",
   "execution_count": 52,
   "id": "d909692e-5aef-4eaf-9f65-49743bcb0634",
   "metadata": {
    "tags": []
   },
   "outputs": [],
   "source": [
    "df_over = pd.concat([df_1_over,df_c0], axis = 0)"
   ]
  },
  {
   "cell_type": "code",
   "execution_count": 54,
   "id": "497e5ac1-8615-45ae-a29e-6851ced59d75",
   "metadata": {
    "tags": []
   },
   "outputs": [],
   "source": [
    "x_over = df_over.drop(['Exited'],axis = 1)\n",
    "y_over = df_over.Exited"
   ]
  },
  {
   "cell_type": "code",
   "execution_count": 55,
   "id": "de43599c-a920-4d1e-bbb3-4c93f80e0282",
   "metadata": {
    "tags": []
   },
   "outputs": [
    {
     "name": "stdout",
     "output_type": "stream",
     "text": [
      "Epoch 1/50\n",
      "399/399 [==============================] - 3s 4ms/step - loss: 0.6226 - accuracy: 0.6692\n",
      "Epoch 2/50\n",
      "399/399 [==============================] - 1s 4ms/step - loss: 0.5396 - accuracy: 0.7352\n",
      "Epoch 3/50\n",
      "399/399 [==============================] - 2s 4ms/step - loss: 0.5154 - accuracy: 0.7473\n",
      "Epoch 4/50\n",
      "399/399 [==============================] - 1s 4ms/step - loss: 0.5031 - accuracy: 0.7519\n",
      "Epoch 5/50\n",
      "399/399 [==============================] - 1s 4ms/step - loss: 0.4948 - accuracy: 0.7528\n",
      "Epoch 6/50\n",
      "399/399 [==============================] - 2s 4ms/step - loss: 0.4900 - accuracy: 0.7565\n",
      "Epoch 7/50\n",
      "399/399 [==============================] - 1s 3ms/step - loss: 0.4867 - accuracy: 0.7580\n",
      "Epoch 8/50\n",
      "399/399 [==============================] - 1s 4ms/step - loss: 0.4839 - accuracy: 0.7607\n",
      "Epoch 9/50\n",
      "399/399 [==============================] - 1s 3ms/step - loss: 0.4817 - accuracy: 0.7618\n",
      "Epoch 10/50\n",
      "399/399 [==============================] - 1s 4ms/step - loss: 0.4799 - accuracy: 0.7619\n",
      "Epoch 11/50\n",
      "399/399 [==============================] - 1s 4ms/step - loss: 0.4791 - accuracy: 0.7629\n",
      "Epoch 12/50\n",
      "399/399 [==============================] - 1s 4ms/step - loss: 0.4776 - accuracy: 0.7627\n",
      "Epoch 13/50\n",
      "399/399 [==============================] - 1s 3ms/step - loss: 0.4773 - accuracy: 0.7646\n",
      "Epoch 14/50\n",
      "399/399 [==============================] - 1s 4ms/step - loss: 0.4767 - accuracy: 0.7635\n",
      "Epoch 15/50\n",
      "399/399 [==============================] - 2s 4ms/step - loss: 0.4763 - accuracy: 0.7636\n",
      "Epoch 16/50\n",
      "399/399 [==============================] - 1s 4ms/step - loss: 0.4753 - accuracy: 0.7629\n",
      "Epoch 17/50\n",
      "399/399 [==============================] - 1s 4ms/step - loss: 0.4753 - accuracy: 0.7648\n",
      "Epoch 18/50\n",
      "399/399 [==============================] - 1s 3ms/step - loss: 0.4745 - accuracy: 0.7647\n",
      "Epoch 19/50\n",
      "399/399 [==============================] - 1s 3ms/step - loss: 0.4754 - accuracy: 0.7641\n",
      "Epoch 20/50\n",
      "399/399 [==============================] - 1s 3ms/step - loss: 0.4743 - accuracy: 0.7644\n",
      "Epoch 21/50\n",
      "399/399 [==============================] - 1s 3ms/step - loss: 0.4739 - accuracy: 0.7663\n",
      "Epoch 22/50\n",
      "399/399 [==============================] - 1s 4ms/step - loss: 0.4738 - accuracy: 0.7660\n",
      "Epoch 23/50\n",
      "399/399 [==============================] - 1s 3ms/step - loss: 0.4731 - accuracy: 0.7656\n",
      "Epoch 24/50\n",
      "399/399 [==============================] - 1s 4ms/step - loss: 0.4737 - accuracy: 0.7669\n",
      "Epoch 25/50\n",
      "399/399 [==============================] - 1s 4ms/step - loss: 0.4731 - accuracy: 0.7667\n",
      "Epoch 26/50\n",
      "399/399 [==============================] - 2s 4ms/step - loss: 0.4733 - accuracy: 0.7678\n",
      "Epoch 27/50\n",
      "399/399 [==============================] - 1s 4ms/step - loss: 0.4728 - accuracy: 0.7657\n",
      "Epoch 28/50\n",
      "399/399 [==============================] - 1s 4ms/step - loss: 0.4725 - accuracy: 0.7651\n",
      "Epoch 29/50\n",
      "399/399 [==============================] - 1s 3ms/step - loss: 0.4723 - accuracy: 0.7669\n",
      "Epoch 30/50\n",
      "399/399 [==============================] - 1s 3ms/step - loss: 0.4717 - accuracy: 0.7643\n",
      "Epoch 31/50\n",
      "399/399 [==============================] - 1s 4ms/step - loss: 0.4720 - accuracy: 0.7662\n",
      "Epoch 32/50\n",
      "399/399 [==============================] - 1s 4ms/step - loss: 0.4720 - accuracy: 0.7673\n",
      "Epoch 33/50\n",
      "399/399 [==============================] - 1s 4ms/step - loss: 0.4712 - accuracy: 0.7676\n",
      "Epoch 34/50\n",
      "399/399 [==============================] - 1s 4ms/step - loss: 0.4713 - accuracy: 0.7670\n",
      "Epoch 35/50\n",
      "399/399 [==============================] - 1s 4ms/step - loss: 0.4702 - accuracy: 0.7665\n",
      "Epoch 36/50\n",
      "399/399 [==============================] - 2s 4ms/step - loss: 0.4699 - accuracy: 0.7688\n",
      "Epoch 37/50\n",
      "399/399 [==============================] - 1s 4ms/step - loss: 0.4694 - accuracy: 0.7695\n",
      "Epoch 38/50\n",
      "399/399 [==============================] - 1s 4ms/step - loss: 0.4687 - accuracy: 0.7688\n",
      "Epoch 39/50\n",
      "399/399 [==============================] - 1s 3ms/step - loss: 0.4680 - accuracy: 0.7684\n",
      "Epoch 40/50\n",
      "399/399 [==============================] - 1s 4ms/step - loss: 0.4677 - accuracy: 0.7691\n",
      "Epoch 41/50\n",
      "399/399 [==============================] - 1s 3ms/step - loss: 0.4670 - accuracy: 0.7698\n",
      "Epoch 42/50\n",
      "399/399 [==============================] - 1s 3ms/step - loss: 0.4663 - accuracy: 0.7714\n",
      "Epoch 43/50\n",
      "399/399 [==============================] - 1s 3ms/step - loss: 0.4662 - accuracy: 0.7714\n",
      "Epoch 44/50\n",
      "399/399 [==============================] - 1s 4ms/step - loss: 0.4658 - accuracy: 0.7714\n",
      "Epoch 45/50\n",
      "399/399 [==============================] - 1s 4ms/step - loss: 0.4660 - accuracy: 0.7711\n",
      "Epoch 46/50\n",
      "399/399 [==============================] - 1s 4ms/step - loss: 0.4652 - accuracy: 0.7721\n",
      "Epoch 47/50\n",
      "399/399 [==============================] - 1s 4ms/step - loss: 0.4653 - accuracy: 0.7703\n",
      "Epoch 48/50\n",
      "399/399 [==============================] - 1s 4ms/step - loss: 0.4650 - accuracy: 0.7717\n",
      "Epoch 49/50\n",
      "399/399 [==============================] - 1s 3ms/step - loss: 0.4647 - accuracy: 0.7731\n",
      "Epoch 50/50\n",
      "399/399 [==============================] - 1s 4ms/step - loss: 0.4640 - accuracy: 0.7719\n",
      "100/100 [==============================] - 0s 3ms/step\n",
      "              precision    recall  f1-score   support\n",
      "\n",
      "           0       0.76      0.80      0.78      1593\n",
      "           1       0.79      0.75      0.77      1593\n",
      "\n",
      "    accuracy                           0.77      3186\n",
      "   macro avg       0.78      0.77      0.77      3186\n",
      "weighted avg       0.78      0.77      0.77      3186\n",
      "\n"
     ]
    }
   ],
   "source": [
    "ANN(x_over,y_over,50)"
   ]
  },
  {
   "cell_type": "code",
   "execution_count": null,
   "id": "81905454-ca7b-4179-8f7b-90ff87d00c9d",
   "metadata": {
    "tags": []
   },
   "outputs": [],
   "source": []
  },
  {
   "cell_type": "code",
   "execution_count": null,
   "id": "44fae92e-e231-40aa-833e-2d0bd231e12a",
   "metadata": {},
   "outputs": [],
   "source": []
  }
 ],
 "metadata": {
  "kernelspec": {
   "display_name": "Python 3 (ipykernel)",
   "language": "python",
   "name": "python3"
  },
  "language_info": {
   "codemirror_mode": {
    "name": "ipython",
    "version": 3
   },
   "file_extension": ".py",
   "mimetype": "text/x-python",
   "name": "python",
   "nbconvert_exporter": "python",
   "pygments_lexer": "ipython3",
   "version": "3.11.4"
  }
 },
 "nbformat": 4,
 "nbformat_minor": 5
}
